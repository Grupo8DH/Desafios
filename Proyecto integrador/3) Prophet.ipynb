{
 "cells": [
  {
   "cell_type": "markdown",
   "metadata": {},
   "source": [
    "# 1) Preparación previa"
   ]
  },
  {
   "cell_type": "markdown",
   "metadata": {},
   "source": [
    "#### Carga de librerías"
   ]
  },
  {
   "cell_type": "code",
   "execution_count": 1,
   "metadata": {},
   "outputs": [],
   "source": [
    "import numpy as np\n",
    "import pandas as pd\n",
    "import warnings\n",
    "import itertools\n",
    "import numpy as np\n",
    "import random\n",
    "import statsmodels.api as sm\n",
    "from statsmodels.tsa.seasonal import seasonal_decompose\n",
    "from statsmodels.graphics.tsaplots import plot_acf, plot_pacf\n",
    "from sklearn.metrics import mean_squared_error, mean_absolute_error\n",
    "import matplotlib.pyplot as plt\n",
    "import seaborn as sns\n",
    "\n",
    "# ES MUY PROBABLE QUE SE NECESITE INSTALAR PROPHET, A CONTINUACIÓN SE DEJA EL PIP INSTALL:\n",
    "# !pip install fbprophet\n",
    "# from fbprophet import Prophet\n",
    "# from fbprophet.diagnostics import cross_validation\n",
    "# import itertools\n",
    "# from fbprophet.diagnostics import performance_metrics\n",
    "\n",
    "warnings.filterwarnings(\"ignore\")"
   ]
  },
  {
   "cell_type": "markdown",
   "metadata": {},
   "source": [
    "#### Lectura del dataset"
   ]
  },
  {
   "cell_type": "code",
   "execution_count": 2,
   "metadata": {},
   "outputs": [
    {
     "data": {
      "text/html": [
       "<div>\n",
       "<style scoped>\n",
       "    .dataframe tbody tr th:only-of-type {\n",
       "        vertical-align: middle;\n",
       "    }\n",
       "\n",
       "    .dataframe tbody tr th {\n",
       "        vertical-align: top;\n",
       "    }\n",
       "\n",
       "    .dataframe thead th {\n",
       "        text-align: right;\n",
       "    }\n",
       "</style>\n",
       "<table border=\"1\" class=\"dataframe\">\n",
       "  <thead>\n",
       "    <tr style=\"text-align: right;\">\n",
       "      <th></th>\n",
       "      <th>SNo</th>\n",
       "      <th>Name</th>\n",
       "      <th>Symbol</th>\n",
       "      <th>Date</th>\n",
       "      <th>High</th>\n",
       "      <th>Low</th>\n",
       "      <th>Open</th>\n",
       "      <th>Close</th>\n",
       "      <th>Volume</th>\n",
       "      <th>Marketcap</th>\n",
       "    </tr>\n",
       "  </thead>\n",
       "  <tbody>\n",
       "    <tr>\n",
       "      <th>0</th>\n",
       "      <td>1</td>\n",
       "      <td>Bitcoin</td>\n",
       "      <td>BTC</td>\n",
       "      <td>2013-04-29 23:59:59</td>\n",
       "      <td>147.488007</td>\n",
       "      <td>134.000000</td>\n",
       "      <td>134.444000</td>\n",
       "      <td>144.539993</td>\n",
       "      <td>0.0</td>\n",
       "      <td>1.603769e+09</td>\n",
       "    </tr>\n",
       "    <tr>\n",
       "      <th>1</th>\n",
       "      <td>2</td>\n",
       "      <td>Bitcoin</td>\n",
       "      <td>BTC</td>\n",
       "      <td>2013-04-30 23:59:59</td>\n",
       "      <td>146.929993</td>\n",
       "      <td>134.050003</td>\n",
       "      <td>144.000000</td>\n",
       "      <td>139.000000</td>\n",
       "      <td>0.0</td>\n",
       "      <td>1.542813e+09</td>\n",
       "    </tr>\n",
       "    <tr>\n",
       "      <th>2</th>\n",
       "      <td>3</td>\n",
       "      <td>Bitcoin</td>\n",
       "      <td>BTC</td>\n",
       "      <td>2013-05-01 23:59:59</td>\n",
       "      <td>139.889999</td>\n",
       "      <td>107.720001</td>\n",
       "      <td>139.000000</td>\n",
       "      <td>116.989998</td>\n",
       "      <td>0.0</td>\n",
       "      <td>1.298955e+09</td>\n",
       "    </tr>\n",
       "    <tr>\n",
       "      <th>3</th>\n",
       "      <td>4</td>\n",
       "      <td>Bitcoin</td>\n",
       "      <td>BTC</td>\n",
       "      <td>2013-05-02 23:59:59</td>\n",
       "      <td>125.599998</td>\n",
       "      <td>92.281898</td>\n",
       "      <td>116.379997</td>\n",
       "      <td>105.209999</td>\n",
       "      <td>0.0</td>\n",
       "      <td>1.168517e+09</td>\n",
       "    </tr>\n",
       "    <tr>\n",
       "      <th>4</th>\n",
       "      <td>5</td>\n",
       "      <td>Bitcoin</td>\n",
       "      <td>BTC</td>\n",
       "      <td>2013-05-03 23:59:59</td>\n",
       "      <td>108.127998</td>\n",
       "      <td>79.099998</td>\n",
       "      <td>106.250000</td>\n",
       "      <td>97.750000</td>\n",
       "      <td>0.0</td>\n",
       "      <td>1.085995e+09</td>\n",
       "    </tr>\n",
       "  </tbody>\n",
       "</table>\n",
       "</div>"
      ],
      "text/plain": [
       "   SNo     Name Symbol                 Date        High         Low  \\\n",
       "0    1  Bitcoin    BTC  2013-04-29 23:59:59  147.488007  134.000000   \n",
       "1    2  Bitcoin    BTC  2013-04-30 23:59:59  146.929993  134.050003   \n",
       "2    3  Bitcoin    BTC  2013-05-01 23:59:59  139.889999  107.720001   \n",
       "3    4  Bitcoin    BTC  2013-05-02 23:59:59  125.599998   92.281898   \n",
       "4    5  Bitcoin    BTC  2013-05-03 23:59:59  108.127998   79.099998   \n",
       "\n",
       "         Open       Close  Volume     Marketcap  \n",
       "0  134.444000  144.539993     0.0  1.603769e+09  \n",
       "1  144.000000  139.000000     0.0  1.542813e+09  \n",
       "2  139.000000  116.989998     0.0  1.298955e+09  \n",
       "3  116.379997  105.209999     0.0  1.168517e+09  \n",
       "4  106.250000   97.750000     0.0  1.085995e+09  "
      ]
     },
     "execution_count": 2,
     "metadata": {},
     "output_type": "execute_result"
    }
   ],
   "source": [
    "df = pd.read_csv('coin_Bitcoin.csv', delimiter=',')\n",
    "df.head()"
   ]
  },
  {
   "cell_type": "markdown",
   "metadata": {},
   "source": [
    "#### Creación de un nuevo DataFrame con las columnas necesarias para trabajar con Prophet:"
   ]
  },
  {
   "cell_type": "code",
   "execution_count": 3,
   "metadata": {},
   "outputs": [],
   "source": [
    "df2 = pd.DataFrame()"
   ]
  },
  {
   "cell_type": "code",
   "execution_count": 4,
   "metadata": {},
   "outputs": [],
   "source": [
    "df2['ds'] = df['Date']\n",
    "df2['y']= df['Close']"
   ]
  },
  {
   "cell_type": "code",
   "execution_count": 5,
   "metadata": {},
   "outputs": [
    {
     "data": {
      "text/plain": [
       "dtype('<M8[ns]')"
      ]
     },
     "execution_count": 5,
     "metadata": {},
     "output_type": "execute_result"
    }
   ],
   "source": [
    "# Se cambia el formato de las fechas:\n",
    "df2['ds'] = pd.to_datetime(df2['ds'])\n",
    "df2['ds'].dtype"
   ]
  },
  {
   "cell_type": "markdown",
   "metadata": {},
   "source": [
    "#### División del dataset en Train y Test, usando rangos personalizados:"
   ]
  },
  {
   "cell_type": "code",
   "execution_count": 6,
   "metadata": {},
   "outputs": [],
   "source": [
    "end_date = '2021-01-27'\n",
    "mask1 = (df2['ds'] <= end_date)\n",
    "mask2 = (df2['ds'] > end_date)"
   ]
  },
  {
   "cell_type": "code",
   "execution_count": 7,
   "metadata": {},
   "outputs": [
    {
     "name": "stdout",
     "output_type": "stream",
     "text": [
      "train shape (2830, 2)\n",
      "test shape (32, 2)\n"
     ]
    }
   ],
   "source": [
    "X_tr = df2.loc[mask1]\n",
    "X_tst = df2.loc[mask2]\n",
    "print(\"train shape\",X_tr.shape)\n",
    "print(\"test shape\",X_tst.shape)"
   ]
  },
  {
   "cell_type": "markdown",
   "metadata": {},
   "source": [
    "#### Ploteo de los dos datasets obtenidos:"
   ]
  },
  {
   "cell_type": "code",
   "execution_count": 8,
   "metadata": {},
   "outputs": [
    {
     "data": {
      "image/png": "[encoded data removed]",
      "text/plain": [
       "<Figure size 1008x360 with 1 Axes>"
      ]
     },
     "metadata": {
      "needs_background": "light"
     },
     "output_type": "display_data"
    }
   ],
   "source": [
    "pd.plotting.register_matplotlib_converters()\n",
    "f, ax = plt.subplots(figsize=(14,5))\n",
    "X_tr.plot(kind='line', x='ds', y='y', color='blue', label='Train', ax=ax)\n",
    "X_tst.plot(kind='line', x='ds', y='y', color='red', label='Test', ax=ax)\n",
    "plt.title('Rango para Train y para Test')\n",
    "plt.show()"
   ]
  },
  {
   "cell_type": "markdown",
   "metadata": {},
   "source": [
    "#### Se define una función para el cálculo del MAPE:"
   ]
  },
  {
   "cell_type": "code",
   "execution_count": 8,
   "metadata": {},
   "outputs": [],
   "source": [
    "def mean_absolute_percentage_error(y_true, y_pred): \n",
    "    y_true, y_pred = np.array(y_true), np.array(y_pred)\n",
    "    return np.mean(np.abs((y_true - y_pred) / y_true)) * 100"
   ]
  },
  {
   "cell_type": "markdown",
   "metadata": {},
   "source": [
    "# 2) Aplicación del modelo Prophet"
   ]
  },
  {
   "cell_type": "markdown",
   "metadata": {},
   "source": [
    "#### Buscamos la mejor combinación de hiperparámetros:"
   ]
  },
  {
   "cell_type": "code",
   "execution_count": 14,
   "metadata": {},
   "outputs": [
    {
     "name": "stderr",
     "output_type": "stream",
     "text": [
      "INFO:fbprophet:Making 20 forecasts with cutoffs between 2020-03-16 23:59:59 and 2020-12-26 23:59:59\n",
      "INFO:fbprophet:Making 20 forecasts with cutoffs between 2020-03-16 23:59:59 and 2020-12-26 23:59:59\n",
      "INFO:fbprophet:Making 20 forecasts with cutoffs between 2020-03-16 23:59:59 and 2020-12-26 23:59:59\n",
      "INFO:fbprophet:Making 20 forecasts with cutoffs between 2020-03-16 23:59:59 and 2020-12-26 23:59:59\n",
      "INFO:fbprophet:Making 20 forecasts with cutoffs between 2020-03-16 23:59:59 and 2020-12-26 23:59:59\n",
      "INFO:fbprophet:Making 20 forecasts with cutoffs between 2020-03-16 23:59:59 and 2020-12-26 23:59:59\n",
      "INFO:fbprophet:Making 20 forecasts with cutoffs between 2020-03-16 23:59:59 and 2020-12-26 23:59:59\n",
      "INFO:fbprophet:Making 20 forecasts with cutoffs between 2020-03-16 23:59:59 and 2020-12-26 23:59:59\n",
      "INFO:fbprophet:Making 20 forecasts with cutoffs between 2020-03-16 23:59:59 and 2020-12-26 23:59:59\n",
      "INFO:fbprophet:Making 20 forecasts with cutoffs between 2020-03-16 23:59:59 and 2020-12-26 23:59:59\n",
      "INFO:fbprophet:Making 20 forecasts with cutoffs between 2020-03-16 23:59:59 and 2020-12-26 23:59:59\n",
      "INFO:fbprophet:Making 20 forecasts with cutoffs between 2020-03-16 23:59:59 and 2020-12-26 23:59:59\n",
      "INFO:fbprophet:Making 20 forecasts with cutoffs between 2020-03-16 23:59:59 and 2020-12-26 23:59:59\n",
      "INFO:fbprophet:Making 20 forecasts with cutoffs between 2020-03-16 23:59:59 and 2020-12-26 23:59:59\n",
      "INFO:fbprophet:Making 20 forecasts with cutoffs between 2020-03-16 23:59:59 and 2020-12-26 23:59:59\n",
      "INFO:fbprophet:Making 20 forecasts with cutoffs between 2020-03-16 23:59:59 and 2020-12-26 23:59:59\n",
      "INFO:fbprophet:Making 20 forecasts with cutoffs between 2020-03-16 23:59:59 and 2020-12-26 23:59:59\n",
      "INFO:fbprophet:Making 20 forecasts with cutoffs between 2020-03-16 23:59:59 and 2020-12-26 23:59:59\n",
      "INFO:fbprophet:Making 20 forecasts with cutoffs between 2020-03-16 23:59:59 and 2020-12-26 23:59:59\n",
      "INFO:fbprophet:Making 20 forecasts with cutoffs between 2020-03-16 23:59:59 and 2020-12-26 23:59:59\n",
      "INFO:fbprophet:Making 20 forecasts with cutoffs between 2020-03-16 23:59:59 and 2020-12-26 23:59:59\n",
      "INFO:fbprophet:Making 20 forecasts with cutoffs between 2020-03-16 23:59:59 and 2020-12-26 23:59:59\n",
      "INFO:fbprophet:Making 20 forecasts with cutoffs between 2020-03-16 23:59:59 and 2020-12-26 23:59:59\n",
      "INFO:fbprophet:Making 20 forecasts with cutoffs between 2020-03-16 23:59:59 and 2020-12-26 23:59:59\n",
      "INFO:fbprophet:Making 20 forecasts with cutoffs between 2020-03-16 23:59:59 and 2020-12-26 23:59:59\n",
      "INFO:fbprophet:Making 20 forecasts with cutoffs between 2020-03-16 23:59:59 and 2020-12-26 23:59:59\n",
      "INFO:fbprophet:Making 20 forecasts with cutoffs between 2020-03-16 23:59:59 and 2020-12-26 23:59:59\n",
      "INFO:fbprophet:Making 20 forecasts with cutoffs between 2020-03-16 23:59:59 and 2020-12-26 23:59:59\n",
      "INFO:fbprophet:Making 20 forecasts with cutoffs between 2020-03-16 23:59:59 and 2020-12-26 23:59:59\n",
      "INFO:fbprophet:Making 20 forecasts with cutoffs between 2020-03-16 23:59:59 and 2020-12-26 23:59:59\n",
      "INFO:fbprophet:Making 20 forecasts with cutoffs between 2020-03-16 23:59:59 and 2020-12-26 23:59:59\n",
      "INFO:fbprophet:Making 20 forecasts with cutoffs between 2020-03-16 23:59:59 and 2020-12-26 23:59:59\n",
      "INFO:fbprophet:Making 20 forecasts with cutoffs between 2020-03-16 23:59:59 and 2020-12-26 23:59:59\n",
      "INFO:fbprophet:Making 20 forecasts with cutoffs between 2020-03-16 23:59:59 and 2020-12-26 23:59:59\n",
      "INFO:fbprophet:Making 20 forecasts with cutoffs between 2020-03-16 23:59:59 and 2020-12-26 23:59:59\n",
      "INFO:fbprophet:Making 20 forecasts with cutoffs between 2020-03-16 23:59:59 and 2020-12-26 23:59:59\n"
     ]
    },
    {
     "name": "stdout",
     "output_type": "stream",
     "text": [
      "    changepoint_prior_scale  seasonality_prior_scale seasonality_mode  \\\n",
      "0                      0.01                      1.0         additive   \n",
      "1                      0.01                      1.0         additive   \n",
      "2                      0.01                      1.0   multiplicative   \n",
      "3                      0.01                      1.0   multiplicative   \n",
      "4                      0.01                     10.0         additive   \n",
      "5                      0.01                     10.0         additive   \n",
      "6                      0.01                     10.0   multiplicative   \n",
      "7                      0.01                     10.0   multiplicative   \n",
      "8                      0.01                     20.0         additive   \n",
      "9                      0.01                     20.0         additive   \n",
      "10                     0.01                     20.0   multiplicative   \n",
      "11                     0.01                     20.0   multiplicative   \n",
      "12                     0.10                      1.0         additive   \n",
      "13                     0.10                      1.0         additive   \n",
      "14                     0.10                      1.0   multiplicative   \n",
      "15                     0.10                      1.0   multiplicative   \n",
      "16                     0.10                     10.0         additive   \n",
      "17                     0.10                     10.0         additive   \n",
      "18                     0.10                     10.0   multiplicative   \n",
      "19                     0.10                     10.0   multiplicative   \n",
      "20                     0.10                     20.0         additive   \n",
      "21                     0.10                     20.0         additive   \n",
      "22                     0.10                     20.0   multiplicative   \n",
      "23                     0.10                     20.0   multiplicative   \n",
      "24                     0.50                      1.0         additive   \n",
      "25                     0.50                      1.0         additive   \n",
      "26                     0.50                      1.0   multiplicative   \n",
      "27                     0.50                      1.0   multiplicative   \n",
      "28                     0.50                     10.0         additive   \n",
      "29                     0.50                     10.0         additive   \n",
      "30                     0.50                     10.0   multiplicative   \n",
      "31                     0.50                     10.0   multiplicative   \n",
      "32                     0.50                     20.0         additive   \n",
      "33                     0.50                     20.0         additive   \n",
      "34                     0.50                     20.0   multiplicative   \n",
      "35                     0.50                     20.0   multiplicative   \n",
      "\n",
      "    daily_seasonality         rmse  \n",
      "0               False  6997.163342  \n",
      "1                True  7014.748474  \n",
      "2               False  6788.786881  \n",
      "3                True  7043.777904  \n",
      "4               False  7011.097430  \n",
      "5                True  7007.643879  \n",
      "6               False  6808.362328  \n",
      "7                True  7047.073016  \n",
      "8               False  6988.809189  \n",
      "9                True  7011.566653  \n",
      "10              False  6889.717666  \n",
      "11               True  7065.693784  \n",
      "12              False  6803.959915  \n",
      "13               True  6796.580619  \n",
      "14              False  6949.967960  \n",
      "15               True  7335.131362  \n",
      "16              False  6804.074715  \n",
      "17               True  6796.536484  \n",
      "18              False  6953.082282  \n",
      "19               True  7340.670109  \n",
      "20              False  6804.992797  \n",
      "21               True  6812.764697  \n",
      "22              False  6950.568348  \n",
      "23               True  7334.319960  \n",
      "24              False  7098.286054  \n",
      "25               True  7088.984634  \n",
      "26              False  7285.907881  \n",
      "27               True  7373.464154  \n",
      "28              False  7093.855252  \n",
      "29               True  7092.290102  \n",
      "30              False  7288.799417  \n",
      "31               True  7370.523763  \n",
      "32              False  7097.269133  \n",
      "33               True  7090.834135  \n",
      "34              False  7287.814840  \n",
      "35               True  7366.565092  \n"
     ]
    }
   ],
   "source": [
    "param_grid = {  \n",
    "    'changepoint_prior_scale': [0.01, 0.1, 0.5],\n",
    "    'seasonality_prior_scale': [1.0, 10.0, 20.0],\n",
    "    'seasonality_mode' : ('additive', 'multiplicative'),\n",
    "    'daily_seasonality' : [False, True]\n",
    "}\n",
    "\n",
    "# Genera todas las combinaciones de parámetros\n",
    "all_params = [dict(zip(param_grid.keys(), v)) for v in itertools.product(*param_grid.values())]\n",
    "rmses = []  # Store the RMSEs for each params here\n",
    "\n",
    "# Usa cross validation para evaluar los parámetros\n",
    "for params in all_params:\n",
    "    m = Prophet(**params).fit(X_tr)  # Fit model with given params\n",
    "    df_cv = cross_validation(m, initial='2500 days' ,period= '15 days',horizon='31 days')\n",
    "    df_p = performance_metrics(df_cv, rolling_window=1)\n",
    "    rmses.append(df_p['rmse'].values[0])\n",
    "\n",
    "# Encuentra los mejores parámetros\n",
    "tuning_results = pd.DataFrame(all_params)\n",
    "tuning_results['rmse'] = rmses\n",
    "print(tuning_results)"
   ]
  },
  {
   "cell_type": "markdown",
   "metadata": {},
   "source": [
    "#### Análisis de cuál tuvo mejor rendimiento:"
   ]
  },
  {
   "cell_type": "code",
   "execution_count": 15,
   "metadata": {},
   "outputs": [
    {
     "name": "stdout",
     "output_type": "stream",
     "text": [
      "{'changepoint_prior_scale': 0.01, 'seasonality_prior_scale': 1.0, 'seasonality_mode': 'multiplicative', 'daily_seasonality': False}\n"
     ]
    }
   ],
   "source": [
    "best_params = all_params[np.argmin(rmses)]\n",
    "print(best_params)"
   ]
  },
  {
   "cell_type": "markdown",
   "metadata": {},
   "source": [
    "#### Aplicación de los hiperparámetros sobre el modelo y fiteo"
   ]
  },
  {
   "cell_type": "code",
   "execution_count": 16,
   "metadata": {},
   "outputs": [
    {
     "data": {
      "text/plain": [
       "<fbprophet.forecaster.Prophet at 0x1ba065fee48>"
      ]
     },
     "execution_count": 16,
     "metadata": {},
     "output_type": "execute_result"
    }
   ],
   "source": [
    "final_model = Prophet(changepoint_prior_scale=0.01 ,\n",
    "                     seasonality_prior_scale = 1.0 ,\n",
    "                     seasonality_mode= 'multiplicative',\n",
    "                     daily_seasonality=False)\n",
    "     \n",
    "final_model.fit(X_tr)"
   ]
  },
  {
   "cell_type": "markdown",
   "metadata": {},
   "source": [
    "#### Visualización de un forecast de 31 días con el modelo fiteado en train:"
   ]
  },
  {
   "cell_type": "code",
   "execution_count": 17,
   "metadata": {},
   "outputs": [
    {
     "data": {
      "text/html": [
       "<div>\n",
       "<style scoped>\n",
       "    .dataframe tbody tr th:only-of-type {\n",
       "        vertical-align: middle;\n",
       "    }\n",
       "\n",
       "    .dataframe tbody tr th {\n",
       "        vertical-align: top;\n",
       "    }\n",
       "\n",
       "    .dataframe thead th {\n",
       "        text-align: right;\n",
       "    }\n",
       "</style>\n",
       "<table border=\"1\" class=\"dataframe\">\n",
       "  <thead>\n",
       "    <tr style=\"text-align: right;\">\n",
       "      <th></th>\n",
       "      <th>ds</th>\n",
       "      <th>yhat</th>\n",
       "      <th>yhat_lower</th>\n",
       "      <th>yhat_upper</th>\n",
       "    </tr>\n",
       "  </thead>\n",
       "  <tbody>\n",
       "    <tr>\n",
       "      <th>2854</th>\n",
       "      <td>2021-02-20 23:59:59</td>\n",
       "      <td>16827.451719</td>\n",
       "      <td>14348.003084</td>\n",
       "      <td>19364.699687</td>\n",
       "    </tr>\n",
       "    <tr>\n",
       "      <th>2855</th>\n",
       "      <td>2021-02-21 23:59:59</td>\n",
       "      <td>16922.327681</td>\n",
       "      <td>14249.271898</td>\n",
       "      <td>19381.477580</td>\n",
       "    </tr>\n",
       "    <tr>\n",
       "      <th>2856</th>\n",
       "      <td>2021-02-22 23:59:59</td>\n",
       "      <td>17116.676731</td>\n",
       "      <td>14543.131866</td>\n",
       "      <td>19801.327239</td>\n",
       "    </tr>\n",
       "    <tr>\n",
       "      <th>2857</th>\n",
       "      <td>2021-02-23 23:59:59</td>\n",
       "      <td>17225.705239</td>\n",
       "      <td>14706.436661</td>\n",
       "      <td>19819.197611</td>\n",
       "    </tr>\n",
       "    <tr>\n",
       "      <th>2858</th>\n",
       "      <td>2021-02-24 23:59:59</td>\n",
       "      <td>17277.813194</td>\n",
       "      <td>14682.303173</td>\n",
       "      <td>19908.898829</td>\n",
       "    </tr>\n",
       "    <tr>\n",
       "      <th>2859</th>\n",
       "      <td>2021-02-25 23:59:59</td>\n",
       "      <td>17293.690058</td>\n",
       "      <td>14687.584894</td>\n",
       "      <td>19604.150960</td>\n",
       "    </tr>\n",
       "    <tr>\n",
       "      <th>2860</th>\n",
       "      <td>2021-02-26 23:59:59</td>\n",
       "      <td>17333.768547</td>\n",
       "      <td>14696.041635</td>\n",
       "      <td>19892.526206</td>\n",
       "    </tr>\n",
       "  </tbody>\n",
       "</table>\n",
       "</div>"
      ],
      "text/plain": [
       "                      ds          yhat    yhat_lower    yhat_upper\n",
       "2854 2021-02-20 23:59:59  16827.451719  14348.003084  19364.699687\n",
       "2855 2021-02-21 23:59:59  16922.327681  14249.271898  19381.477580\n",
       "2856 2021-02-22 23:59:59  17116.676731  14543.131866  19801.327239\n",
       "2857 2021-02-23 23:59:59  17225.705239  14706.436661  19819.197611\n",
       "2858 2021-02-24 23:59:59  17277.813194  14682.303173  19908.898829\n",
       "2859 2021-02-25 23:59:59  17293.690058  14687.584894  19604.150960\n",
       "2860 2021-02-26 23:59:59  17333.768547  14696.041635  19892.526206"
      ]
     },
     "execution_count": 17,
     "metadata": {},
     "output_type": "execute_result"
    }
   ],
   "source": [
    "future = final_model.make_future_dataframe(periods=31, freq='D')\n",
    "forecast = final_model.predict(future)\n",
    "\n",
    "forecast[['ds', 'yhat', 'yhat_lower', 'yhat_upper']].tail(7)"
   ]
  },
  {
   "cell_type": "markdown",
   "metadata": {},
   "source": [
    "#### Finalmente, en la variable X_tst_final se guarda el predict en test:"
   ]
  },
  {
   "cell_type": "code",
   "execution_count": 18,
   "metadata": {},
   "outputs": [
    {
     "data": {
      "text/html": [
       "<div>\n",
       "<style scoped>\n",
       "    .dataframe tbody tr th:only-of-type {\n",
       "        vertical-align: middle;\n",
       "    }\n",
       "\n",
       "    .dataframe tbody tr th {\n",
       "        vertical-align: top;\n",
       "    }\n",
       "\n",
       "    .dataframe thead th {\n",
       "        text-align: right;\n",
       "    }\n",
       "</style>\n",
       "<table border=\"1\" class=\"dataframe\">\n",
       "  <thead>\n",
       "    <tr style=\"text-align: right;\">\n",
       "      <th></th>\n",
       "      <th>ds</th>\n",
       "      <th>yhat</th>\n",
       "      <th>yhat_lower</th>\n",
       "      <th>yhat_upper</th>\n",
       "    </tr>\n",
       "  </thead>\n",
       "  <tbody>\n",
       "    <tr>\n",
       "      <th>25</th>\n",
       "      <td>2021-02-21 23:59:59</td>\n",
       "      <td>16922.327681</td>\n",
       "      <td>14344.501470</td>\n",
       "      <td>19636.901333</td>\n",
       "    </tr>\n",
       "    <tr>\n",
       "      <th>26</th>\n",
       "      <td>2021-02-22 23:59:59</td>\n",
       "      <td>17116.676731</td>\n",
       "      <td>14483.875993</td>\n",
       "      <td>19739.305811</td>\n",
       "    </tr>\n",
       "    <tr>\n",
       "      <th>27</th>\n",
       "      <td>2021-02-23 23:59:59</td>\n",
       "      <td>17225.705239</td>\n",
       "      <td>14680.606877</td>\n",
       "      <td>19836.913932</td>\n",
       "    </tr>\n",
       "    <tr>\n",
       "      <th>28</th>\n",
       "      <td>2021-02-24 23:59:59</td>\n",
       "      <td>17277.813194</td>\n",
       "      <td>14840.264981</td>\n",
       "      <td>19986.013388</td>\n",
       "    </tr>\n",
       "    <tr>\n",
       "      <th>29</th>\n",
       "      <td>2021-02-25 23:59:59</td>\n",
       "      <td>17293.690058</td>\n",
       "      <td>14840.065322</td>\n",
       "      <td>19933.216641</td>\n",
       "    </tr>\n",
       "    <tr>\n",
       "      <th>30</th>\n",
       "      <td>2021-02-26 23:59:59</td>\n",
       "      <td>17333.768547</td>\n",
       "      <td>14602.831368</td>\n",
       "      <td>19906.131023</td>\n",
       "    </tr>\n",
       "    <tr>\n",
       "      <th>31</th>\n",
       "      <td>2021-02-27 23:59:59</td>\n",
       "      <td>17363.716112</td>\n",
       "      <td>14755.369370</td>\n",
       "      <td>20021.927431</td>\n",
       "    </tr>\n",
       "  </tbody>\n",
       "</table>\n",
       "</div>"
      ],
      "text/plain": [
       "                    ds          yhat    yhat_lower    yhat_upper\n",
       "25 2021-02-21 23:59:59  16922.327681  14344.501470  19636.901333\n",
       "26 2021-02-22 23:59:59  17116.676731  14483.875993  19739.305811\n",
       "27 2021-02-23 23:59:59  17225.705239  14680.606877  19836.913932\n",
       "28 2021-02-24 23:59:59  17277.813194  14840.264981  19986.013388\n",
       "29 2021-02-25 23:59:59  17293.690058  14840.065322  19933.216641\n",
       "30 2021-02-26 23:59:59  17333.768547  14602.831368  19906.131023\n",
       "31 2021-02-27 23:59:59  17363.716112  14755.369370  20021.927431"
      ]
     },
     "execution_count": 18,
     "metadata": {},
     "output_type": "execute_result"
    }
   ],
   "source": [
    "X_tst_final= final_model.predict(X_tst)\n",
    "X_tst_final[['ds', 'yhat', 'yhat_lower', 'yhat_upper']].tail(7)"
   ]
  },
  {
   "cell_type": "markdown",
   "metadata": {},
   "source": [
    "#### Ploteo de resultados:"
   ]
  },
  {
   "cell_type": "code",
   "execution_count": 19,
   "metadata": {},
   "outputs": [
    {
     "data": {
      "image/png": "[encoded data removed]",
      "text/plain": [
       "<Figure size 1080x360 with 1 Axes>"
      ]
     },
     "metadata": {
      "needs_background": "light"
     },
     "output_type": "display_data"
    }
   ],
   "source": [
    "f, ax = plt.subplots(figsize=(14,5))\n",
    "f.set_figheight(5)\n",
    "f.set_figwidth(15)\n",
    "X_tst.plot(kind='line',x='ds', y='y', color='red', label='Actual', ax=ax)\n",
    "X_tst_final.plot(kind='line',x='ds',y='yhat', color='green',label='Forecast', ax=ax)\n",
    "plt.title('Forecast vs Actual')\n",
    "plt.show()"
   ]
  },
  {
   "cell_type": "markdown",
   "metadata": {},
   "source": [
    "#### Aplicación de la función MAPE"
   ]
  },
  {
   "cell_type": "code",
   "execution_count": 20,
   "metadata": {},
   "outputs": [
    {
     "name": "stdout",
     "output_type": "stream",
     "text": [
      "MAPE 60.178989316360145\n"
     ]
    }
   ],
   "source": [
    "MAPE = mean_absolute_percentage_error(X_tst['y'],abs(X_tst_final['yhat']))\n",
    "print('MAPE', MAPE)"
   ]
  },
  {
   "cell_type": "markdown",
   "metadata": {},
   "source": [
    "Es importante a destacar aquí que no se encuentra el sentido del MAPE, considerando que el RMSE fue de tan solo 6997 (lo cual matemáticamente se corresponde con un MAPE aproximado de 15%, que fue el que se insertó en la notebook 2). De ser 60 de MAPE, el resultado es muy negativo, mientras que de ser 15 se podría considerar al Prophet como un buen modelo"
   ]
  }
 ],
 "metadata": {
  "kernelspec": {
   "display_name": "Python 3",
   "language": "python",
   "name": "python3"
  },
  "language_info": {
   "codemirror_mode": {
    "name": "ipython",
    "version": 3
   },
   "file_extension": ".py",
   "mimetype": "text/x-python",
   "name": "python",
   "nbconvert_exporter": "python",
   "pygments_lexer": "ipython3",
   "version": "3.7.9"
  }
 },
 "nbformat": 4,
 "nbformat_minor": 5
}

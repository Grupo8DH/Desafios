{
 "cells": [
  {
   "cell_type": "markdown",
   "metadata": {},
   "source": [
    "# 1) Preparación previa"
   ]
  },
  {
   "cell_type": "markdown",
   "metadata": {},
   "source": [
    "### Carga de librerías"
   ]
  },
  {
   "cell_type": "code",
   "execution_count": 1,
   "metadata": {},
   "outputs": [],
   "source": [
    "import pandas as pd\n",
    "import numpy as np\n",
    "import re\n",
    "from sklearn import linear_model\n",
    "from sklearn.metrics import mean_squared_error, r2_score, mean_absolute_error\n",
    "from sklearn.model_selection import train_test_split\n",
    "%matplotlib inline\n",
    "from matplotlib import pyplot as plt\n",
    "import seaborn as sns\n",
    "import scipy as sp\n",
    "from sklearn.preprocessing import PolynomialFeatures\n",
    "from sklearn.model_selection import train_test_split"
   ]
  },
  {
   "cell_type": "markdown",
   "metadata": {},
   "source": [
    "### Lectura del data set limpio"
   ]
  },
  {
   "cell_type": "code",
   "execution_count": 2,
   "metadata": {},
   "outputs": [
    {
     "data": {
      "text/html": [
       "<div>\n",
       "<style scoped>\n",
       "    .dataframe tbody tr th:only-of-type {\n",
       "        vertical-align: middle;\n",
       "    }\n",
       "\n",
       "    .dataframe tbody tr th {\n",
       "        vertical-align: top;\n",
       "    }\n",
       "\n",
       "    .dataframe thead th {\n",
       "        text-align: right;\n",
       "    }\n",
       "</style>\n",
       "<table border=\"1\" class=\"dataframe\">\n",
       "  <thead>\n",
       "    <tr style=\"text-align: right;\">\n",
       "      <th></th>\n",
       "      <th>property_type</th>\n",
       "      <th>price</th>\n",
       "      <th>surface_covered_in_m2</th>\n",
       "      <th>Partido</th>\n",
       "      <th>precio_usd_por_m2</th>\n",
       "      <th>ambientes_train</th>\n",
       "      <th>ambientes_imputados</th>\n",
       "      <th>ambientes_final</th>\n",
       "      <th>balcon</th>\n",
       "      <th>parrilla</th>\n",
       "      <th>pileta</th>\n",
       "      <th>patio</th>\n",
       "      <th>quincho</th>\n",
       "      <th>gimnasio</th>\n",
       "      <th>sala_usos_multiples</th>\n",
       "      <th>cochera</th>\n",
       "      <th>seguridad</th>\n",
       "      <th>jardin</th>\n",
       "      <th>frente</th>\n",
       "    </tr>\n",
       "  </thead>\n",
       "  <tbody>\n",
       "    <tr>\n",
       "      <th>0</th>\n",
       "      <td>PH</td>\n",
       "      <td>62000.0</td>\n",
       "      <td>40.0</td>\n",
       "      <td>Mataderos</td>\n",
       "      <td>1550.000000</td>\n",
       "      <td>2</td>\n",
       "      <td>0.0</td>\n",
       "      <td>2.0</td>\n",
       "      <td>NaN</td>\n",
       "      <td>NaN</td>\n",
       "      <td>NaN</td>\n",
       "      <td>patio</td>\n",
       "      <td>NaN</td>\n",
       "      <td>NaN</td>\n",
       "      <td>NaN</td>\n",
       "      <td>NaN</td>\n",
       "      <td>NaN</td>\n",
       "      <td>NaN</td>\n",
       "      <td>NaN</td>\n",
       "    </tr>\n",
       "    <tr>\n",
       "      <th>1</th>\n",
       "      <td>apartment</td>\n",
       "      <td>72000.0</td>\n",
       "      <td>55.0</td>\n",
       "      <td>Mataderos</td>\n",
       "      <td>1309.090909</td>\n",
       "      <td>2</td>\n",
       "      <td>0.0</td>\n",
       "      <td>2.0</td>\n",
       "      <td>NaN</td>\n",
       "      <td>NaN</td>\n",
       "      <td>NaN</td>\n",
       "      <td>NaN</td>\n",
       "      <td>NaN</td>\n",
       "      <td>NaN</td>\n",
       "      <td>NaN</td>\n",
       "      <td>NaN</td>\n",
       "      <td>NaN</td>\n",
       "      <td>NaN</td>\n",
       "      <td>NaN</td>\n",
       "    </tr>\n",
       "    <tr>\n",
       "      <th>2</th>\n",
       "      <td>apartment</td>\n",
       "      <td>64000.0</td>\n",
       "      <td>35.0</td>\n",
       "      <td>Mar del Plata</td>\n",
       "      <td>1828.571429</td>\n",
       "      <td>2</td>\n",
       "      <td>0.0</td>\n",
       "      <td>2.0</td>\n",
       "      <td>NaN</td>\n",
       "      <td>NaN</td>\n",
       "      <td>NaN</td>\n",
       "      <td>NaN</td>\n",
       "      <td>NaN</td>\n",
       "      <td>NaN</td>\n",
       "      <td>NaN</td>\n",
       "      <td>NaN</td>\n",
       "      <td>NaN</td>\n",
       "      <td>NaN</td>\n",
       "      <td>frente</td>\n",
       "    </tr>\n",
       "    <tr>\n",
       "      <th>3</th>\n",
       "      <td>PH</td>\n",
       "      <td>130000.0</td>\n",
       "      <td>78.0</td>\n",
       "      <td>Vicente López</td>\n",
       "      <td>1666.666667</td>\n",
       "      <td>0</td>\n",
       "      <td>3.0</td>\n",
       "      <td>3.0</td>\n",
       "      <td>NaN</td>\n",
       "      <td>NaN</td>\n",
       "      <td>NaN</td>\n",
       "      <td>patio</td>\n",
       "      <td>NaN</td>\n",
       "      <td>NaN</td>\n",
       "      <td>NaN</td>\n",
       "      <td>NaN</td>\n",
       "      <td>NaN</td>\n",
       "      <td>NaN</td>\n",
       "      <td>frente</td>\n",
       "    </tr>\n",
       "    <tr>\n",
       "      <th>4</th>\n",
       "      <td>apartment</td>\n",
       "      <td>138000.0</td>\n",
       "      <td>40.0</td>\n",
       "      <td>Belgrano</td>\n",
       "      <td>3450.000000</td>\n",
       "      <td>0</td>\n",
       "      <td>1.0</td>\n",
       "      <td>1.0</td>\n",
       "      <td>NaN</td>\n",
       "      <td>NaN</td>\n",
       "      <td>pileta</td>\n",
       "      <td>NaN</td>\n",
       "      <td>NaN</td>\n",
       "      <td>NaN</td>\n",
       "      <td>NaN</td>\n",
       "      <td>NaN</td>\n",
       "      <td>NaN</td>\n",
       "      <td>NaN</td>\n",
       "      <td>NaN</td>\n",
       "    </tr>\n",
       "  </tbody>\n",
       "</table>\n",
       "</div>"
      ],
      "text/plain": [
       "  property_type     price  surface_covered_in_m2        Partido  \\\n",
       "0            PH   62000.0                   40.0      Mataderos   \n",
       "1     apartment   72000.0                   55.0      Mataderos   \n",
       "2     apartment   64000.0                   35.0  Mar del Plata   \n",
       "3            PH  130000.0                   78.0  Vicente López   \n",
       "4     apartment  138000.0                   40.0       Belgrano   \n",
       "\n",
       "   precio_usd_por_m2  ambientes_train  ambientes_imputados  ambientes_final  \\\n",
       "0        1550.000000                2                  0.0              2.0   \n",
       "1        1309.090909                2                  0.0              2.0   \n",
       "2        1828.571429                2                  0.0              2.0   \n",
       "3        1666.666667                0                  3.0              3.0   \n",
       "4        3450.000000                0                  1.0              1.0   \n",
       "\n",
       "  balcon parrilla  pileta  patio quincho gimnasio sala_usos_multiples cochera  \\\n",
       "0    NaN      NaN     NaN  patio     NaN      NaN                 NaN     NaN   \n",
       "1    NaN      NaN     NaN    NaN     NaN      NaN                 NaN     NaN   \n",
       "2    NaN      NaN     NaN    NaN     NaN      NaN                 NaN     NaN   \n",
       "3    NaN      NaN     NaN  patio     NaN      NaN                 NaN     NaN   \n",
       "4    NaN      NaN  pileta    NaN     NaN      NaN                 NaN     NaN   \n",
       "\n",
       "  seguridad jardin  frente  \n",
       "0       NaN    NaN     NaN  \n",
       "1       NaN    NaN     NaN  \n",
       "2       NaN    NaN  frente  \n",
       "3       NaN    NaN  frente  \n",
       "4       NaN    NaN     NaN  "
      ]
     },
     "execution_count": 2,
     "metadata": {},
     "output_type": "execute_result"
    }
   ],
   "source": [
    "data = pd.read_csv(\"data_final.csv\", sep = \";\")\n",
    "data.head(5)"
   ]
  },
  {
   "cell_type": "markdown",
   "metadata": {},
   "source": [
    "# 2) Creación de dummies"
   ]
  },
  {
   "cell_type": "markdown",
   "metadata": {},
   "source": [
    "### Partido"
   ]
  },
  {
   "cell_type": "code",
   "execution_count": 3,
   "metadata": {},
   "outputs": [
    {
     "data": {
      "text/plain": [
       "50"
      ]
     },
     "execution_count": 3,
     "metadata": {},
     "output_type": "execute_result"
    }
   ],
   "source": [
    "# Como hay muchísimos, se usará el dataset con solo los 50 partidos con más datos\n",
    "grupo_partidos = data.groupby(\"Partido\")\n",
    "filtro_partidos = grupo_partidos[[\"Partido\"]].describe()\n",
    "data_partidos = filtro_partidos[filtro_partidos.Partido.freq > 289]\n",
    "len(data_partidos)"
   ]
  },
  {
   "cell_type": "code",
   "execution_count": 4,
   "metadata": {},
   "outputs": [
    {
     "data": {
      "text/html": [
       "<div>\n",
       "<style scoped>\n",
       "    .dataframe tbody tr th:only-of-type {\n",
       "        vertical-align: middle;\n",
       "    }\n",
       "\n",
       "    .dataframe tbody tr th {\n",
       "        vertical-align: top;\n",
       "    }\n",
       "\n",
       "    .dataframe thead th {\n",
       "        text-align: right;\n",
       "    }\n",
       "</style>\n",
       "<table border=\"1\" class=\"dataframe\">\n",
       "  <thead>\n",
       "    <tr style=\"text-align: right;\">\n",
       "      <th></th>\n",
       "      <th>property_type</th>\n",
       "      <th>price</th>\n",
       "      <th>surface_covered_in_m2</th>\n",
       "      <th>Partido</th>\n",
       "      <th>precio_usd_por_m2</th>\n",
       "      <th>ambientes_train</th>\n",
       "      <th>ambientes_imputados</th>\n",
       "      <th>ambientes_final</th>\n",
       "      <th>balcon</th>\n",
       "      <th>parrilla</th>\n",
       "      <th>pileta</th>\n",
       "      <th>patio</th>\n",
       "      <th>quincho</th>\n",
       "      <th>gimnasio</th>\n",
       "      <th>sala_usos_multiples</th>\n",
       "      <th>cochera</th>\n",
       "      <th>seguridad</th>\n",
       "      <th>jardin</th>\n",
       "      <th>frente</th>\n",
       "    </tr>\n",
       "  </thead>\n",
       "  <tbody>\n",
       "    <tr>\n",
       "      <th>2</th>\n",
       "      <td>apartment</td>\n",
       "      <td>64000.0</td>\n",
       "      <td>35.0</td>\n",
       "      <td>Mar del Plata</td>\n",
       "      <td>1828.571429</td>\n",
       "      <td>2</td>\n",
       "      <td>0.0</td>\n",
       "      <td>2.0</td>\n",
       "      <td>NaN</td>\n",
       "      <td>NaN</td>\n",
       "      <td>NaN</td>\n",
       "      <td>NaN</td>\n",
       "      <td>NaN</td>\n",
       "      <td>NaN</td>\n",
       "      <td>NaN</td>\n",
       "      <td>NaN</td>\n",
       "      <td>NaN</td>\n",
       "      <td>NaN</td>\n",
       "      <td>frente</td>\n",
       "    </tr>\n",
       "    <tr>\n",
       "      <th>3</th>\n",
       "      <td>PH</td>\n",
       "      <td>130000.0</td>\n",
       "      <td>78.0</td>\n",
       "      <td>Vicente López</td>\n",
       "      <td>1666.666667</td>\n",
       "      <td>0</td>\n",
       "      <td>3.0</td>\n",
       "      <td>3.0</td>\n",
       "      <td>NaN</td>\n",
       "      <td>NaN</td>\n",
       "      <td>NaN</td>\n",
       "      <td>patio</td>\n",
       "      <td>NaN</td>\n",
       "      <td>NaN</td>\n",
       "      <td>NaN</td>\n",
       "      <td>NaN</td>\n",
       "      <td>NaN</td>\n",
       "      <td>NaN</td>\n",
       "      <td>frente</td>\n",
       "    </tr>\n",
       "    <tr>\n",
       "      <th>4</th>\n",
       "      <td>apartment</td>\n",
       "      <td>138000.0</td>\n",
       "      <td>40.0</td>\n",
       "      <td>Belgrano</td>\n",
       "      <td>3450.000000</td>\n",
       "      <td>0</td>\n",
       "      <td>1.0</td>\n",
       "      <td>1.0</td>\n",
       "      <td>NaN</td>\n",
       "      <td>NaN</td>\n",
       "      <td>pileta</td>\n",
       "      <td>NaN</td>\n",
       "      <td>NaN</td>\n",
       "      <td>NaN</td>\n",
       "      <td>NaN</td>\n",
       "      <td>NaN</td>\n",
       "      <td>NaN</td>\n",
       "      <td>NaN</td>\n",
       "      <td>NaN</td>\n",
       "    </tr>\n",
       "    <tr>\n",
       "      <th>5</th>\n",
       "      <td>apartment</td>\n",
       "      <td>195000.0</td>\n",
       "      <td>60.0</td>\n",
       "      <td>Belgrano</td>\n",
       "      <td>3250.000000</td>\n",
       "      <td>0</td>\n",
       "      <td>2.0</td>\n",
       "      <td>2.0</td>\n",
       "      <td>NaN</td>\n",
       "      <td>NaN</td>\n",
       "      <td>pileta</td>\n",
       "      <td>NaN</td>\n",
       "      <td>NaN</td>\n",
       "      <td>NaN</td>\n",
       "      <td>NaN</td>\n",
       "      <td>NaN</td>\n",
       "      <td>NaN</td>\n",
       "      <td>NaN</td>\n",
       "      <td>NaN</td>\n",
       "    </tr>\n",
       "    <tr>\n",
       "      <th>6</th>\n",
       "      <td>apartment</td>\n",
       "      <td>115000.0</td>\n",
       "      <td>36.0</td>\n",
       "      <td>San Isidro</td>\n",
       "      <td>3194.444444</td>\n",
       "      <td>2</td>\n",
       "      <td>0.0</td>\n",
       "      <td>2.0</td>\n",
       "      <td>balcon</td>\n",
       "      <td>NaN</td>\n",
       "      <td>NaN</td>\n",
       "      <td>NaN</td>\n",
       "      <td>NaN</td>\n",
       "      <td>NaN</td>\n",
       "      <td>NaN</td>\n",
       "      <td>NaN</td>\n",
       "      <td>NaN</td>\n",
       "      <td>NaN</td>\n",
       "      <td>frente</td>\n",
       "    </tr>\n",
       "    <tr>\n",
       "      <th>...</th>\n",
       "      <td>...</td>\n",
       "      <td>...</td>\n",
       "      <td>...</td>\n",
       "      <td>...</td>\n",
       "      <td>...</td>\n",
       "      <td>...</td>\n",
       "      <td>...</td>\n",
       "      <td>...</td>\n",
       "      <td>...</td>\n",
       "      <td>...</td>\n",
       "      <td>...</td>\n",
       "      <td>...</td>\n",
       "      <td>...</td>\n",
       "      <td>...</td>\n",
       "      <td>...</td>\n",
       "      <td>...</td>\n",
       "      <td>...</td>\n",
       "      <td>...</td>\n",
       "      <td>...</td>\n",
       "    </tr>\n",
       "    <tr>\n",
       "      <th>71761</th>\n",
       "      <td>house</td>\n",
       "      <td>170000.0</td>\n",
       "      <td>130.0</td>\n",
       "      <td>Pilar</td>\n",
       "      <td>1307.692308</td>\n",
       "      <td>0</td>\n",
       "      <td>4.0</td>\n",
       "      <td>4.0</td>\n",
       "      <td>NaN</td>\n",
       "      <td>parrilla</td>\n",
       "      <td>pileta</td>\n",
       "      <td>NaN</td>\n",
       "      <td>NaN</td>\n",
       "      <td>NaN</td>\n",
       "      <td>NaN</td>\n",
       "      <td>NaN</td>\n",
       "      <td>NaN</td>\n",
       "      <td>NaN</td>\n",
       "      <td>NaN</td>\n",
       "    </tr>\n",
       "    <tr>\n",
       "      <th>71762</th>\n",
       "      <td>apartment</td>\n",
       "      <td>128000.0</td>\n",
       "      <td>35.0</td>\n",
       "      <td>Belgrano</td>\n",
       "      <td>3657.142857</td>\n",
       "      <td>0</td>\n",
       "      <td>1.0</td>\n",
       "      <td>1.0</td>\n",
       "      <td>NaN</td>\n",
       "      <td>parrilla</td>\n",
       "      <td>NaN</td>\n",
       "      <td>NaN</td>\n",
       "      <td>NaN</td>\n",
       "      <td>gimnasio</td>\n",
       "      <td>sum</td>\n",
       "      <td>cochera</td>\n",
       "      <td>NaN</td>\n",
       "      <td>NaN</td>\n",
       "      <td>frente</td>\n",
       "    </tr>\n",
       "    <tr>\n",
       "      <th>71763</th>\n",
       "      <td>apartment</td>\n",
       "      <td>165000.0</td>\n",
       "      <td>39.0</td>\n",
       "      <td>Recoleta</td>\n",
       "      <td>4230.769231</td>\n",
       "      <td>0</td>\n",
       "      <td>1.0</td>\n",
       "      <td>1.0</td>\n",
       "      <td>NaN</td>\n",
       "      <td>parrilla</td>\n",
       "      <td>NaN</td>\n",
       "      <td>NaN</td>\n",
       "      <td>NaN</td>\n",
       "      <td>NaN</td>\n",
       "      <td>NaN</td>\n",
       "      <td>NaN</td>\n",
       "      <td>NaN</td>\n",
       "      <td>NaN</td>\n",
       "      <td>frente</td>\n",
       "    </tr>\n",
       "    <tr>\n",
       "      <th>71764</th>\n",
       "      <td>apartment</td>\n",
       "      <td>131500.0</td>\n",
       "      <td>39.0</td>\n",
       "      <td>Villa Urquiza</td>\n",
       "      <td>3371.794872</td>\n",
       "      <td>0</td>\n",
       "      <td>1.0</td>\n",
       "      <td>1.0</td>\n",
       "      <td>balcon</td>\n",
       "      <td>parrilla</td>\n",
       "      <td>NaN</td>\n",
       "      <td>NaN</td>\n",
       "      <td>NaN</td>\n",
       "      <td>NaN</td>\n",
       "      <td>NaN</td>\n",
       "      <td>cochera</td>\n",
       "      <td>NaN</td>\n",
       "      <td>NaN</td>\n",
       "      <td>NaN</td>\n",
       "    </tr>\n",
       "    <tr>\n",
       "      <th>71765</th>\n",
       "      <td>apartment</td>\n",
       "      <td>95900.0</td>\n",
       "      <td>48.0</td>\n",
       "      <td>Mar del Plata</td>\n",
       "      <td>1997.916667</td>\n",
       "      <td>2</td>\n",
       "      <td>0.0</td>\n",
       "      <td>2.0</td>\n",
       "      <td>NaN</td>\n",
       "      <td>NaN</td>\n",
       "      <td>NaN</td>\n",
       "      <td>NaN</td>\n",
       "      <td>NaN</td>\n",
       "      <td>NaN</td>\n",
       "      <td>NaN</td>\n",
       "      <td>NaN</td>\n",
       "      <td>NaN</td>\n",
       "      <td>NaN</td>\n",
       "      <td>frente</td>\n",
       "    </tr>\n",
       "  </tbody>\n",
       "</table>\n",
       "<p>62621 rows × 19 columns</p>\n",
       "</div>"
      ],
      "text/plain": [
       "      property_type     price  surface_covered_in_m2        Partido  \\\n",
       "2         apartment   64000.0                   35.0  Mar del Plata   \n",
       "3                PH  130000.0                   78.0  Vicente López   \n",
       "4         apartment  138000.0                   40.0       Belgrano   \n",
       "5         apartment  195000.0                   60.0       Belgrano   \n",
       "6         apartment  115000.0                   36.0     San Isidro   \n",
       "...             ...       ...                    ...            ...   \n",
       "71761         house  170000.0                  130.0          Pilar   \n",
       "71762     apartment  128000.0                   35.0       Belgrano   \n",
       "71763     apartment  165000.0                   39.0       Recoleta   \n",
       "71764     apartment  131500.0                   39.0  Villa Urquiza   \n",
       "71765     apartment   95900.0                   48.0  Mar del Plata   \n",
       "\n",
       "       precio_usd_por_m2  ambientes_train  ambientes_imputados  \\\n",
       "2            1828.571429                2                  0.0   \n",
       "3            1666.666667                0                  3.0   \n",
       "4            3450.000000                0                  1.0   \n",
       "5            3250.000000                0                  2.0   \n",
       "6            3194.444444                2                  0.0   \n",
       "...                  ...              ...                  ...   \n",
       "71761        1307.692308                0                  4.0   \n",
       "71762        3657.142857                0                  1.0   \n",
       "71763        4230.769231                0                  1.0   \n",
       "71764        3371.794872                0                  1.0   \n",
       "71765        1997.916667                2                  0.0   \n",
       "\n",
       "       ambientes_final  balcon  parrilla  pileta  patio quincho  gimnasio  \\\n",
       "2                  2.0     NaN       NaN     NaN    NaN     NaN       NaN   \n",
       "3                  3.0     NaN       NaN     NaN  patio     NaN       NaN   \n",
       "4                  1.0     NaN       NaN  pileta    NaN     NaN       NaN   \n",
       "5                  2.0     NaN       NaN  pileta    NaN     NaN       NaN   \n",
       "6                  2.0  balcon       NaN     NaN    NaN     NaN       NaN   \n",
       "...                ...     ...       ...     ...    ...     ...       ...   \n",
       "71761              4.0     NaN  parrilla  pileta    NaN     NaN       NaN   \n",
       "71762              1.0     NaN  parrilla     NaN    NaN     NaN  gimnasio   \n",
       "71763              1.0     NaN  parrilla     NaN    NaN     NaN       NaN   \n",
       "71764              1.0  balcon  parrilla     NaN    NaN     NaN       NaN   \n",
       "71765              2.0     NaN       NaN     NaN    NaN     NaN       NaN   \n",
       "\n",
       "      sala_usos_multiples  cochera seguridad jardin  frente  \n",
       "2                     NaN      NaN       NaN    NaN  frente  \n",
       "3                     NaN      NaN       NaN    NaN  frente  \n",
       "4                     NaN      NaN       NaN    NaN     NaN  \n",
       "5                     NaN      NaN       NaN    NaN     NaN  \n",
       "6                     NaN      NaN       NaN    NaN  frente  \n",
       "...                   ...      ...       ...    ...     ...  \n",
       "71761                 NaN      NaN       NaN    NaN     NaN  \n",
       "71762                 sum  cochera       NaN    NaN  frente  \n",
       "71763                 NaN      NaN       NaN    NaN  frente  \n",
       "71764                 NaN  cochera       NaN    NaN     NaN  \n",
       "71765                 NaN      NaN       NaN    NaN  frente  \n",
       "\n",
       "[62621 rows x 19 columns]"
      ]
     },
     "execution_count": 4,
     "metadata": {},
     "output_type": "execute_result"
    }
   ],
   "source": [
    "mask_partidos = data['Partido'].isin(data_partidos.Partido.top)\n",
    "data_para_dummies = data[mask_partidos]\n",
    "data_para_dummies"
   ]
  },
  {
   "cell_type": "code",
   "execution_count": 5,
   "metadata": {},
   "outputs": [
    {
     "data": {
      "text/html": [
       "<div>\n",
       "<style scoped>\n",
       "    .dataframe tbody tr th:only-of-type {\n",
       "        vertical-align: middle;\n",
       "    }\n",
       "\n",
       "    .dataframe tbody tr th {\n",
       "        vertical-align: top;\n",
       "    }\n",
       "\n",
       "    .dataframe thead th {\n",
       "        text-align: right;\n",
       "    }\n",
       "</style>\n",
       "<table border=\"1\" class=\"dataframe\">\n",
       "  <thead>\n",
       "    <tr style=\"text-align: right;\">\n",
       "      <th></th>\n",
       "      <th>partido_Almagro</th>\n",
       "      <th>partido_Almirante Brown</th>\n",
       "      <th>partido_Avellaneda</th>\n",
       "      <th>partido_Bahía Blanca</th>\n",
       "      <th>partido_Balvanera</th>\n",
       "      <th>partido_Barracas</th>\n",
       "      <th>partido_Barrio Norte</th>\n",
       "      <th>partido_Belgrano</th>\n",
       "      <th>partido_Boedo</th>\n",
       "      <th>partido_Caballito</th>\n",
       "      <th>...</th>\n",
       "      <th>partido_San Telmo</th>\n",
       "      <th>partido_Tigre</th>\n",
       "      <th>partido_Tres de Febrero</th>\n",
       "      <th>partido_Vicente López</th>\n",
       "      <th>partido_Villa Carlos Paz</th>\n",
       "      <th>partido_Villa Crespo</th>\n",
       "      <th>partido_Villa Devoto</th>\n",
       "      <th>partido_Villa Luro</th>\n",
       "      <th>partido_Villa Urquiza</th>\n",
       "      <th>partido_Villa del Parque</th>\n",
       "    </tr>\n",
       "  </thead>\n",
       "  <tbody>\n",
       "    <tr>\n",
       "      <th>2</th>\n",
       "      <td>0</td>\n",
       "      <td>0</td>\n",
       "      <td>0</td>\n",
       "      <td>0</td>\n",
       "      <td>0</td>\n",
       "      <td>0</td>\n",
       "      <td>0</td>\n",
       "      <td>0</td>\n",
       "      <td>0</td>\n",
       "      <td>0</td>\n",
       "      <td>...</td>\n",
       "      <td>0</td>\n",
       "      <td>0</td>\n",
       "      <td>0</td>\n",
       "      <td>0</td>\n",
       "      <td>0</td>\n",
       "      <td>0</td>\n",
       "      <td>0</td>\n",
       "      <td>0</td>\n",
       "      <td>0</td>\n",
       "      <td>0</td>\n",
       "    </tr>\n",
       "    <tr>\n",
       "      <th>3</th>\n",
       "      <td>0</td>\n",
       "      <td>0</td>\n",
       "      <td>0</td>\n",
       "      <td>0</td>\n",
       "      <td>0</td>\n",
       "      <td>0</td>\n",
       "      <td>0</td>\n",
       "      <td>0</td>\n",
       "      <td>0</td>\n",
       "      <td>0</td>\n",
       "      <td>...</td>\n",
       "      <td>0</td>\n",
       "      <td>0</td>\n",
       "      <td>0</td>\n",
       "      <td>1</td>\n",
       "      <td>0</td>\n",
       "      <td>0</td>\n",
       "      <td>0</td>\n",
       "      <td>0</td>\n",
       "      <td>0</td>\n",
       "      <td>0</td>\n",
       "    </tr>\n",
       "    <tr>\n",
       "      <th>4</th>\n",
       "      <td>0</td>\n",
       "      <td>0</td>\n",
       "      <td>0</td>\n",
       "      <td>0</td>\n",
       "      <td>0</td>\n",
       "      <td>0</td>\n",
       "      <td>0</td>\n",
       "      <td>1</td>\n",
       "      <td>0</td>\n",
       "      <td>0</td>\n",
       "      <td>...</td>\n",
       "      <td>0</td>\n",
       "      <td>0</td>\n",
       "      <td>0</td>\n",
       "      <td>0</td>\n",
       "      <td>0</td>\n",
       "      <td>0</td>\n",
       "      <td>0</td>\n",
       "      <td>0</td>\n",
       "      <td>0</td>\n",
       "      <td>0</td>\n",
       "    </tr>\n",
       "    <tr>\n",
       "      <th>5</th>\n",
       "      <td>0</td>\n",
       "      <td>0</td>\n",
       "      <td>0</td>\n",
       "      <td>0</td>\n",
       "      <td>0</td>\n",
       "      <td>0</td>\n",
       "      <td>0</td>\n",
       "      <td>1</td>\n",
       "      <td>0</td>\n",
       "      <td>0</td>\n",
       "      <td>...</td>\n",
       "      <td>0</td>\n",
       "      <td>0</td>\n",
       "      <td>0</td>\n",
       "      <td>0</td>\n",
       "      <td>0</td>\n",
       "      <td>0</td>\n",
       "      <td>0</td>\n",
       "      <td>0</td>\n",
       "      <td>0</td>\n",
       "      <td>0</td>\n",
       "    </tr>\n",
       "    <tr>\n",
       "      <th>6</th>\n",
       "      <td>0</td>\n",
       "      <td>0</td>\n",
       "      <td>0</td>\n",
       "      <td>0</td>\n",
       "      <td>0</td>\n",
       "      <td>0</td>\n",
       "      <td>0</td>\n",
       "      <td>0</td>\n",
       "      <td>0</td>\n",
       "      <td>0</td>\n",
       "      <td>...</td>\n",
       "      <td>0</td>\n",
       "      <td>0</td>\n",
       "      <td>0</td>\n",
       "      <td>0</td>\n",
       "      <td>0</td>\n",
       "      <td>0</td>\n",
       "      <td>0</td>\n",
       "      <td>0</td>\n",
       "      <td>0</td>\n",
       "      <td>0</td>\n",
       "    </tr>\n",
       "    <tr>\n",
       "      <th>...</th>\n",
       "      <td>...</td>\n",
       "      <td>...</td>\n",
       "      <td>...</td>\n",
       "      <td>...</td>\n",
       "      <td>...</td>\n",
       "      <td>...</td>\n",
       "      <td>...</td>\n",
       "      <td>...</td>\n",
       "      <td>...</td>\n",
       "      <td>...</td>\n",
       "      <td>...</td>\n",
       "      <td>...</td>\n",
       "      <td>...</td>\n",
       "      <td>...</td>\n",
       "      <td>...</td>\n",
       "      <td>...</td>\n",
       "      <td>...</td>\n",
       "      <td>...</td>\n",
       "      <td>...</td>\n",
       "      <td>...</td>\n",
       "      <td>...</td>\n",
       "    </tr>\n",
       "    <tr>\n",
       "      <th>71761</th>\n",
       "      <td>0</td>\n",
       "      <td>0</td>\n",
       "      <td>0</td>\n",
       "      <td>0</td>\n",
       "      <td>0</td>\n",
       "      <td>0</td>\n",
       "      <td>0</td>\n",
       "      <td>0</td>\n",
       "      <td>0</td>\n",
       "      <td>0</td>\n",
       "      <td>...</td>\n",
       "      <td>0</td>\n",
       "      <td>0</td>\n",
       "      <td>0</td>\n",
       "      <td>0</td>\n",
       "      <td>0</td>\n",
       "      <td>0</td>\n",
       "      <td>0</td>\n",
       "      <td>0</td>\n",
       "      <td>0</td>\n",
       "      <td>0</td>\n",
       "    </tr>\n",
       "    <tr>\n",
       "      <th>71762</th>\n",
       "      <td>0</td>\n",
       "      <td>0</td>\n",
       "      <td>0</td>\n",
       "      <td>0</td>\n",
       "      <td>0</td>\n",
       "      <td>0</td>\n",
       "      <td>0</td>\n",
       "      <td>1</td>\n",
       "      <td>0</td>\n",
       "      <td>0</td>\n",
       "      <td>...</td>\n",
       "      <td>0</td>\n",
       "      <td>0</td>\n",
       "      <td>0</td>\n",
       "      <td>0</td>\n",
       "      <td>0</td>\n",
       "      <td>0</td>\n",
       "      <td>0</td>\n",
       "      <td>0</td>\n",
       "      <td>0</td>\n",
       "      <td>0</td>\n",
       "    </tr>\n",
       "    <tr>\n",
       "      <th>71763</th>\n",
       "      <td>0</td>\n",
       "      <td>0</td>\n",
       "      <td>0</td>\n",
       "      <td>0</td>\n",
       "      <td>0</td>\n",
       "      <td>0</td>\n",
       "      <td>0</td>\n",
       "      <td>0</td>\n",
       "      <td>0</td>\n",
       "      <td>0</td>\n",
       "      <td>...</td>\n",
       "      <td>0</td>\n",
       "      <td>0</td>\n",
       "      <td>0</td>\n",
       "      <td>0</td>\n",
       "      <td>0</td>\n",
       "      <td>0</td>\n",
       "      <td>0</td>\n",
       "      <td>0</td>\n",
       "      <td>0</td>\n",
       "      <td>0</td>\n",
       "    </tr>\n",
       "    <tr>\n",
       "      <th>71764</th>\n",
       "      <td>0</td>\n",
       "      <td>0</td>\n",
       "      <td>0</td>\n",
       "      <td>0</td>\n",
       "      <td>0</td>\n",
       "      <td>0</td>\n",
       "      <td>0</td>\n",
       "      <td>0</td>\n",
       "      <td>0</td>\n",
       "      <td>0</td>\n",
       "      <td>...</td>\n",
       "      <td>0</td>\n",
       "      <td>0</td>\n",
       "      <td>0</td>\n",
       "      <td>0</td>\n",
       "      <td>0</td>\n",
       "      <td>0</td>\n",
       "      <td>0</td>\n",
       "      <td>0</td>\n",
       "      <td>1</td>\n",
       "      <td>0</td>\n",
       "    </tr>\n",
       "    <tr>\n",
       "      <th>71765</th>\n",
       "      <td>0</td>\n",
       "      <td>0</td>\n",
       "      <td>0</td>\n",
       "      <td>0</td>\n",
       "      <td>0</td>\n",
       "      <td>0</td>\n",
       "      <td>0</td>\n",
       "      <td>0</td>\n",
       "      <td>0</td>\n",
       "      <td>0</td>\n",
       "      <td>...</td>\n",
       "      <td>0</td>\n",
       "      <td>0</td>\n",
       "      <td>0</td>\n",
       "      <td>0</td>\n",
       "      <td>0</td>\n",
       "      <td>0</td>\n",
       "      <td>0</td>\n",
       "      <td>0</td>\n",
       "      <td>0</td>\n",
       "      <td>0</td>\n",
       "    </tr>\n",
       "  </tbody>\n",
       "</table>\n",
       "<p>62621 rows × 50 columns</p>\n",
       "</div>"
      ],
      "text/plain": [
       "       partido_Almagro  partido_Almirante Brown  partido_Avellaneda  \\\n",
       "2                    0                        0                   0   \n",
       "3                    0                        0                   0   \n",
       "4                    0                        0                   0   \n",
       "5                    0                        0                   0   \n",
       "6                    0                        0                   0   \n",
       "...                ...                      ...                 ...   \n",
       "71761                0                        0                   0   \n",
       "71762                0                        0                   0   \n",
       "71763                0                        0                   0   \n",
       "71764                0                        0                   0   \n",
       "71765                0                        0                   0   \n",
       "\n",
       "       partido_Bahía Blanca  partido_Balvanera  partido_Barracas  \\\n",
       "2                         0                  0                 0   \n",
       "3                         0                  0                 0   \n",
       "4                         0                  0                 0   \n",
       "5                         0                  0                 0   \n",
       "6                         0                  0                 0   \n",
       "...                     ...                ...               ...   \n",
       "71761                     0                  0                 0   \n",
       "71762                     0                  0                 0   \n",
       "71763                     0                  0                 0   \n",
       "71764                     0                  0                 0   \n",
       "71765                     0                  0                 0   \n",
       "\n",
       "       partido_Barrio Norte  partido_Belgrano  partido_Boedo  \\\n",
       "2                         0                 0              0   \n",
       "3                         0                 0              0   \n",
       "4                         0                 1              0   \n",
       "5                         0                 1              0   \n",
       "6                         0                 0              0   \n",
       "...                     ...               ...            ...   \n",
       "71761                     0                 0              0   \n",
       "71762                     0                 1              0   \n",
       "71763                     0                 0              0   \n",
       "71764                     0                 0              0   \n",
       "71765                     0                 0              0   \n",
       "\n",
       "       partido_Caballito  ...  partido_San Telmo  partido_Tigre  \\\n",
       "2                      0  ...                  0              0   \n",
       "3                      0  ...                  0              0   \n",
       "4                      0  ...                  0              0   \n",
       "5                      0  ...                  0              0   \n",
       "6                      0  ...                  0              0   \n",
       "...                  ...  ...                ...            ...   \n",
       "71761                  0  ...                  0              0   \n",
       "71762                  0  ...                  0              0   \n",
       "71763                  0  ...                  0              0   \n",
       "71764                  0  ...                  0              0   \n",
       "71765                  0  ...                  0              0   \n",
       "\n",
       "       partido_Tres de Febrero  partido_Vicente López  \\\n",
       "2                            0                      0   \n",
       "3                            0                      1   \n",
       "4                            0                      0   \n",
       "5                            0                      0   \n",
       "6                            0                      0   \n",
       "...                        ...                    ...   \n",
       "71761                        0                      0   \n",
       "71762                        0                      0   \n",
       "71763                        0                      0   \n",
       "71764                        0                      0   \n",
       "71765                        0                      0   \n",
       "\n",
       "       partido_Villa Carlos Paz  partido_Villa Crespo  partido_Villa Devoto  \\\n",
       "2                             0                     0                     0   \n",
       "3                             0                     0                     0   \n",
       "4                             0                     0                     0   \n",
       "5                             0                     0                     0   \n",
       "6                             0                     0                     0   \n",
       "...                         ...                   ...                   ...   \n",
       "71761                         0                     0                     0   \n",
       "71762                         0                     0                     0   \n",
       "71763                         0                     0                     0   \n",
       "71764                         0                     0                     0   \n",
       "71765                         0                     0                     0   \n",
       "\n",
       "       partido_Villa Luro  partido_Villa Urquiza  partido_Villa del Parque  \n",
       "2                       0                      0                         0  \n",
       "3                       0                      0                         0  \n",
       "4                       0                      0                         0  \n",
       "5                       0                      0                         0  \n",
       "6                       0                      0                         0  \n",
       "...                   ...                    ...                       ...  \n",
       "71761                   0                      0                         0  \n",
       "71762                   0                      0                         0  \n",
       "71763                   0                      0                         0  \n",
       "71764                   0                      1                         0  \n",
       "71765                   0                      0                         0  \n",
       "\n",
       "[62621 rows x 50 columns]"
      ]
     },
     "execution_count": 5,
     "metadata": {},
     "output_type": "execute_result"
    }
   ],
   "source": [
    "dummy_partido = pd.get_dummies(data_para_dummies['Partido'], prefix='partido')\n",
    "dummy_partido"
   ]
  },
  {
   "cell_type": "markdown",
   "metadata": {},
   "source": [
    "### Propiedades"
   ]
  },
  {
   "cell_type": "code",
   "execution_count": 6,
   "metadata": {},
   "outputs": [
    {
     "data": {
      "text/html": [
       "<div>\n",
       "<style scoped>\n",
       "    .dataframe tbody tr th:only-of-type {\n",
       "        vertical-align: middle;\n",
       "    }\n",
       "\n",
       "    .dataframe tbody tr th {\n",
       "        vertical-align: top;\n",
       "    }\n",
       "\n",
       "    .dataframe thead th {\n",
       "        text-align: right;\n",
       "    }\n",
       "</style>\n",
       "<table border=\"1\" class=\"dataframe\">\n",
       "  <thead>\n",
       "    <tr style=\"text-align: right;\">\n",
       "      <th></th>\n",
       "      <th>prop_PH</th>\n",
       "      <th>prop_apartment</th>\n",
       "      <th>prop_house</th>\n",
       "    </tr>\n",
       "  </thead>\n",
       "  <tbody>\n",
       "    <tr>\n",
       "      <th>2</th>\n",
       "      <td>0</td>\n",
       "      <td>1</td>\n",
       "      <td>0</td>\n",
       "    </tr>\n",
       "    <tr>\n",
       "      <th>3</th>\n",
       "      <td>1</td>\n",
       "      <td>0</td>\n",
       "      <td>0</td>\n",
       "    </tr>\n",
       "    <tr>\n",
       "      <th>4</th>\n",
       "      <td>0</td>\n",
       "      <td>1</td>\n",
       "      <td>0</td>\n",
       "    </tr>\n",
       "    <tr>\n",
       "      <th>5</th>\n",
       "      <td>0</td>\n",
       "      <td>1</td>\n",
       "      <td>0</td>\n",
       "    </tr>\n",
       "    <tr>\n",
       "      <th>6</th>\n",
       "      <td>0</td>\n",
       "      <td>1</td>\n",
       "      <td>0</td>\n",
       "    </tr>\n",
       "    <tr>\n",
       "      <th>...</th>\n",
       "      <td>...</td>\n",
       "      <td>...</td>\n",
       "      <td>...</td>\n",
       "    </tr>\n",
       "    <tr>\n",
       "      <th>71761</th>\n",
       "      <td>0</td>\n",
       "      <td>0</td>\n",
       "      <td>1</td>\n",
       "    </tr>\n",
       "    <tr>\n",
       "      <th>71762</th>\n",
       "      <td>0</td>\n",
       "      <td>1</td>\n",
       "      <td>0</td>\n",
       "    </tr>\n",
       "    <tr>\n",
       "      <th>71763</th>\n",
       "      <td>0</td>\n",
       "      <td>1</td>\n",
       "      <td>0</td>\n",
       "    </tr>\n",
       "    <tr>\n",
       "      <th>71764</th>\n",
       "      <td>0</td>\n",
       "      <td>1</td>\n",
       "      <td>0</td>\n",
       "    </tr>\n",
       "    <tr>\n",
       "      <th>71765</th>\n",
       "      <td>0</td>\n",
       "      <td>1</td>\n",
       "      <td>0</td>\n",
       "    </tr>\n",
       "  </tbody>\n",
       "</table>\n",
       "<p>62621 rows × 3 columns</p>\n",
       "</div>"
      ],
      "text/plain": [
       "       prop_PH  prop_apartment  prop_house\n",
       "2            0               1           0\n",
       "3            1               0           0\n",
       "4            0               1           0\n",
       "5            0               1           0\n",
       "6            0               1           0\n",
       "...        ...             ...         ...\n",
       "71761        0               0           1\n",
       "71762        0               1           0\n",
       "71763        0               1           0\n",
       "71764        0               1           0\n",
       "71765        0               1           0\n",
       "\n",
       "[62621 rows x 3 columns]"
      ]
     },
     "execution_count": 6,
     "metadata": {},
     "output_type": "execute_result"
    }
   ],
   "source": [
    "dummy_prop = pd.get_dummies(data_para_dummies['property_type'], prefix='prop')\n",
    "dummy_prop"
   ]
  },
  {
   "cell_type": "markdown",
   "metadata": {},
   "source": [
    "### Ambientes"
   ]
  },
  {
   "cell_type": "code",
   "execution_count": 7,
   "metadata": {},
   "outputs": [
    {
     "data": {
      "text/html": [
       "<div>\n",
       "<style scoped>\n",
       "    .dataframe tbody tr th:only-of-type {\n",
       "        vertical-align: middle;\n",
       "    }\n",
       "\n",
       "    .dataframe tbody tr th {\n",
       "        vertical-align: top;\n",
       "    }\n",
       "\n",
       "    .dataframe thead th {\n",
       "        text-align: right;\n",
       "    }\n",
       "</style>\n",
       "<table border=\"1\" class=\"dataframe\">\n",
       "  <thead>\n",
       "    <tr style=\"text-align: right;\">\n",
       "      <th></th>\n",
       "      <th>amb_1.0</th>\n",
       "      <th>amb_2.0</th>\n",
       "      <th>amb_3.0</th>\n",
       "      <th>amb_4.0</th>\n",
       "      <th>amb_5.0</th>\n",
       "      <th>amb_6.0</th>\n",
       "      <th>amb_7.0</th>\n",
       "    </tr>\n",
       "  </thead>\n",
       "  <tbody>\n",
       "    <tr>\n",
       "      <th>2</th>\n",
       "      <td>0</td>\n",
       "      <td>1</td>\n",
       "      <td>0</td>\n",
       "      <td>0</td>\n",
       "      <td>0</td>\n",
       "      <td>0</td>\n",
       "      <td>0</td>\n",
       "    </tr>\n",
       "    <tr>\n",
       "      <th>3</th>\n",
       "      <td>0</td>\n",
       "      <td>0</td>\n",
       "      <td>1</td>\n",
       "      <td>0</td>\n",
       "      <td>0</td>\n",
       "      <td>0</td>\n",
       "      <td>0</td>\n",
       "    </tr>\n",
       "    <tr>\n",
       "      <th>4</th>\n",
       "      <td>1</td>\n",
       "      <td>0</td>\n",
       "      <td>0</td>\n",
       "      <td>0</td>\n",
       "      <td>0</td>\n",
       "      <td>0</td>\n",
       "      <td>0</td>\n",
       "    </tr>\n",
       "    <tr>\n",
       "      <th>5</th>\n",
       "      <td>0</td>\n",
       "      <td>1</td>\n",
       "      <td>0</td>\n",
       "      <td>0</td>\n",
       "      <td>0</td>\n",
       "      <td>0</td>\n",
       "      <td>0</td>\n",
       "    </tr>\n",
       "    <tr>\n",
       "      <th>6</th>\n",
       "      <td>0</td>\n",
       "      <td>1</td>\n",
       "      <td>0</td>\n",
       "      <td>0</td>\n",
       "      <td>0</td>\n",
       "      <td>0</td>\n",
       "      <td>0</td>\n",
       "    </tr>\n",
       "    <tr>\n",
       "      <th>...</th>\n",
       "      <td>...</td>\n",
       "      <td>...</td>\n",
       "      <td>...</td>\n",
       "      <td>...</td>\n",
       "      <td>...</td>\n",
       "      <td>...</td>\n",
       "      <td>...</td>\n",
       "    </tr>\n",
       "    <tr>\n",
       "      <th>71761</th>\n",
       "      <td>0</td>\n",
       "      <td>0</td>\n",
       "      <td>0</td>\n",
       "      <td>1</td>\n",
       "      <td>0</td>\n",
       "      <td>0</td>\n",
       "      <td>0</td>\n",
       "    </tr>\n",
       "    <tr>\n",
       "      <th>71762</th>\n",
       "      <td>1</td>\n",
       "      <td>0</td>\n",
       "      <td>0</td>\n",
       "      <td>0</td>\n",
       "      <td>0</td>\n",
       "      <td>0</td>\n",
       "      <td>0</td>\n",
       "    </tr>\n",
       "    <tr>\n",
       "      <th>71763</th>\n",
       "      <td>1</td>\n",
       "      <td>0</td>\n",
       "      <td>0</td>\n",
       "      <td>0</td>\n",
       "      <td>0</td>\n",
       "      <td>0</td>\n",
       "      <td>0</td>\n",
       "    </tr>\n",
       "    <tr>\n",
       "      <th>71764</th>\n",
       "      <td>1</td>\n",
       "      <td>0</td>\n",
       "      <td>0</td>\n",
       "      <td>0</td>\n",
       "      <td>0</td>\n",
       "      <td>0</td>\n",
       "      <td>0</td>\n",
       "    </tr>\n",
       "    <tr>\n",
       "      <th>71765</th>\n",
       "      <td>0</td>\n",
       "      <td>1</td>\n",
       "      <td>0</td>\n",
       "      <td>0</td>\n",
       "      <td>0</td>\n",
       "      <td>0</td>\n",
       "      <td>0</td>\n",
       "    </tr>\n",
       "  </tbody>\n",
       "</table>\n",
       "<p>62621 rows × 7 columns</p>\n",
       "</div>"
      ],
      "text/plain": [
       "       amb_1.0  amb_2.0  amb_3.0  amb_4.0  amb_5.0  amb_6.0  amb_7.0\n",
       "2            0        1        0        0        0        0        0\n",
       "3            0        0        1        0        0        0        0\n",
       "4            1        0        0        0        0        0        0\n",
       "5            0        1        0        0        0        0        0\n",
       "6            0        1        0        0        0        0        0\n",
       "...        ...      ...      ...      ...      ...      ...      ...\n",
       "71761        0        0        0        1        0        0        0\n",
       "71762        1        0        0        0        0        0        0\n",
       "71763        1        0        0        0        0        0        0\n",
       "71764        1        0        0        0        0        0        0\n",
       "71765        0        1        0        0        0        0        0\n",
       "\n",
       "[62621 rows x 7 columns]"
      ]
     },
     "execution_count": 7,
     "metadata": {},
     "output_type": "execute_result"
    }
   ],
   "source": [
    "dummy_amb = pd.get_dummies(data_para_dummies['ambientes_final'], prefix='amb')\n",
    "dummy_amb"
   ]
  },
  {
   "cell_type": "markdown",
   "metadata": {},
   "source": [
    "### Balcón"
   ]
  },
  {
   "cell_type": "code",
   "execution_count": 8,
   "metadata": {},
   "outputs": [
    {
     "data": {
      "text/html": [
       "<div>\n",
       "<style scoped>\n",
       "    .dataframe tbody tr th:only-of-type {\n",
       "        vertical-align: middle;\n",
       "    }\n",
       "\n",
       "    .dataframe tbody tr th {\n",
       "        vertical-align: top;\n",
       "    }\n",
       "\n",
       "    .dataframe thead th {\n",
       "        text-align: right;\n",
       "    }\n",
       "</style>\n",
       "<table border=\"1\" class=\"dataframe\">\n",
       "  <thead>\n",
       "    <tr style=\"text-align: right;\">\n",
       "      <th></th>\n",
       "      <th>dummy_balcon</th>\n",
       "    </tr>\n",
       "  </thead>\n",
       "  <tbody>\n",
       "    <tr>\n",
       "      <th>2</th>\n",
       "      <td>0</td>\n",
       "    </tr>\n",
       "    <tr>\n",
       "      <th>3</th>\n",
       "      <td>0</td>\n",
       "    </tr>\n",
       "    <tr>\n",
       "      <th>4</th>\n",
       "      <td>0</td>\n",
       "    </tr>\n",
       "    <tr>\n",
       "      <th>5</th>\n",
       "      <td>0</td>\n",
       "    </tr>\n",
       "    <tr>\n",
       "      <th>6</th>\n",
       "      <td>1</td>\n",
       "    </tr>\n",
       "    <tr>\n",
       "      <th>...</th>\n",
       "      <td>...</td>\n",
       "    </tr>\n",
       "    <tr>\n",
       "      <th>71761</th>\n",
       "      <td>0</td>\n",
       "    </tr>\n",
       "    <tr>\n",
       "      <th>71762</th>\n",
       "      <td>0</td>\n",
       "    </tr>\n",
       "    <tr>\n",
       "      <th>71763</th>\n",
       "      <td>0</td>\n",
       "    </tr>\n",
       "    <tr>\n",
       "      <th>71764</th>\n",
       "      <td>1</td>\n",
       "    </tr>\n",
       "    <tr>\n",
       "      <th>71765</th>\n",
       "      <td>0</td>\n",
       "    </tr>\n",
       "  </tbody>\n",
       "</table>\n",
       "<p>62621 rows × 1 columns</p>\n",
       "</div>"
      ],
      "text/plain": [
       "       dummy_balcon\n",
       "2                 0\n",
       "3                 0\n",
       "4                 0\n",
       "5                 0\n",
       "6                 1\n",
       "...             ...\n",
       "71761             0\n",
       "71762             0\n",
       "71763             0\n",
       "71764             1\n",
       "71765             0\n",
       "\n",
       "[62621 rows x 1 columns]"
      ]
     },
     "execution_count": 8,
     "metadata": {},
     "output_type": "execute_result"
    }
   ],
   "source": [
    "dummy_balcon = pd.get_dummies(data_para_dummies['balcon'], prefix = \"dummy\")\n",
    "dummy_balcon"
   ]
  },
  {
   "cell_type": "markdown",
   "metadata": {},
   "source": [
    "### Parrilla"
   ]
  },
  {
   "cell_type": "code",
   "execution_count": 9,
   "metadata": {},
   "outputs": [
    {
     "data": {
      "text/html": [
       "<div>\n",
       "<style scoped>\n",
       "    .dataframe tbody tr th:only-of-type {\n",
       "        vertical-align: middle;\n",
       "    }\n",
       "\n",
       "    .dataframe tbody tr th {\n",
       "        vertical-align: top;\n",
       "    }\n",
       "\n",
       "    .dataframe thead th {\n",
       "        text-align: right;\n",
       "    }\n",
       "</style>\n",
       "<table border=\"1\" class=\"dataframe\">\n",
       "  <thead>\n",
       "    <tr style=\"text-align: right;\">\n",
       "      <th></th>\n",
       "      <th>dummy_parrilla</th>\n",
       "    </tr>\n",
       "  </thead>\n",
       "  <tbody>\n",
       "    <tr>\n",
       "      <th>2</th>\n",
       "      <td>0</td>\n",
       "    </tr>\n",
       "    <tr>\n",
       "      <th>3</th>\n",
       "      <td>0</td>\n",
       "    </tr>\n",
       "    <tr>\n",
       "      <th>4</th>\n",
       "      <td>0</td>\n",
       "    </tr>\n",
       "    <tr>\n",
       "      <th>5</th>\n",
       "      <td>0</td>\n",
       "    </tr>\n",
       "    <tr>\n",
       "      <th>6</th>\n",
       "      <td>0</td>\n",
       "    </tr>\n",
       "    <tr>\n",
       "      <th>...</th>\n",
       "      <td>...</td>\n",
       "    </tr>\n",
       "    <tr>\n",
       "      <th>71761</th>\n",
       "      <td>1</td>\n",
       "    </tr>\n",
       "    <tr>\n",
       "      <th>71762</th>\n",
       "      <td>1</td>\n",
       "    </tr>\n",
       "    <tr>\n",
       "      <th>71763</th>\n",
       "      <td>1</td>\n",
       "    </tr>\n",
       "    <tr>\n",
       "      <th>71764</th>\n",
       "      <td>1</td>\n",
       "    </tr>\n",
       "    <tr>\n",
       "      <th>71765</th>\n",
       "      <td>0</td>\n",
       "    </tr>\n",
       "  </tbody>\n",
       "</table>\n",
       "<p>62621 rows × 1 columns</p>\n",
       "</div>"
      ],
      "text/plain": [
       "       dummy_parrilla\n",
       "2                   0\n",
       "3                   0\n",
       "4                   0\n",
       "5                   0\n",
       "6                   0\n",
       "...               ...\n",
       "71761               1\n",
       "71762               1\n",
       "71763               1\n",
       "71764               1\n",
       "71765               0\n",
       "\n",
       "[62621 rows x 1 columns]"
      ]
     },
     "execution_count": 9,
     "metadata": {},
     "output_type": "execute_result"
    }
   ],
   "source": [
    "dummy_parrilla = pd.get_dummies(data_para_dummies['parrilla'], prefix = \"dummy\")\n",
    "dummy_parrilla"
   ]
  },
  {
   "cell_type": "markdown",
   "metadata": {},
   "source": [
    "### Pileta"
   ]
  },
  {
   "cell_type": "code",
   "execution_count": 10,
   "metadata": {},
   "outputs": [
    {
     "data": {
      "text/html": [
       "<div>\n",
       "<style scoped>\n",
       "    .dataframe tbody tr th:only-of-type {\n",
       "        vertical-align: middle;\n",
       "    }\n",
       "\n",
       "    .dataframe tbody tr th {\n",
       "        vertical-align: top;\n",
       "    }\n",
       "\n",
       "    .dataframe thead th {\n",
       "        text-align: right;\n",
       "    }\n",
       "</style>\n",
       "<table border=\"1\" class=\"dataframe\">\n",
       "  <thead>\n",
       "    <tr style=\"text-align: right;\">\n",
       "      <th></th>\n",
       "      <th>dummy_pileta</th>\n",
       "    </tr>\n",
       "  </thead>\n",
       "  <tbody>\n",
       "    <tr>\n",
       "      <th>2</th>\n",
       "      <td>0</td>\n",
       "    </tr>\n",
       "    <tr>\n",
       "      <th>3</th>\n",
       "      <td>0</td>\n",
       "    </tr>\n",
       "    <tr>\n",
       "      <th>4</th>\n",
       "      <td>1</td>\n",
       "    </tr>\n",
       "    <tr>\n",
       "      <th>5</th>\n",
       "      <td>1</td>\n",
       "    </tr>\n",
       "    <tr>\n",
       "      <th>6</th>\n",
       "      <td>0</td>\n",
       "    </tr>\n",
       "    <tr>\n",
       "      <th>...</th>\n",
       "      <td>...</td>\n",
       "    </tr>\n",
       "    <tr>\n",
       "      <th>71761</th>\n",
       "      <td>1</td>\n",
       "    </tr>\n",
       "    <tr>\n",
       "      <th>71762</th>\n",
       "      <td>0</td>\n",
       "    </tr>\n",
       "    <tr>\n",
       "      <th>71763</th>\n",
       "      <td>0</td>\n",
       "    </tr>\n",
       "    <tr>\n",
       "      <th>71764</th>\n",
       "      <td>0</td>\n",
       "    </tr>\n",
       "    <tr>\n",
       "      <th>71765</th>\n",
       "      <td>0</td>\n",
       "    </tr>\n",
       "  </tbody>\n",
       "</table>\n",
       "<p>62621 rows × 1 columns</p>\n",
       "</div>"
      ],
      "text/plain": [
       "       dummy_pileta\n",
       "2                 0\n",
       "3                 0\n",
       "4                 1\n",
       "5                 1\n",
       "6                 0\n",
       "...             ...\n",
       "71761             1\n",
       "71762             0\n",
       "71763             0\n",
       "71764             0\n",
       "71765             0\n",
       "\n",
       "[62621 rows x 1 columns]"
      ]
     },
     "execution_count": 10,
     "metadata": {},
     "output_type": "execute_result"
    }
   ],
   "source": [
    "dummy_pileta = pd.get_dummies(data_para_dummies['pileta'], prefix = \"dummy\")\n",
    "dummy_pileta"
   ]
  },
  {
   "cell_type": "markdown",
   "metadata": {},
   "source": [
    "### Patio"
   ]
  },
  {
   "cell_type": "code",
   "execution_count": 11,
   "metadata": {},
   "outputs": [
    {
     "data": {
      "text/html": [
       "<div>\n",
       "<style scoped>\n",
       "    .dataframe tbody tr th:only-of-type {\n",
       "        vertical-align: middle;\n",
       "    }\n",
       "\n",
       "    .dataframe tbody tr th {\n",
       "        vertical-align: top;\n",
       "    }\n",
       "\n",
       "    .dataframe thead th {\n",
       "        text-align: right;\n",
       "    }\n",
       "</style>\n",
       "<table border=\"1\" class=\"dataframe\">\n",
       "  <thead>\n",
       "    <tr style=\"text-align: right;\">\n",
       "      <th></th>\n",
       "      <th>dummy_patio</th>\n",
       "    </tr>\n",
       "  </thead>\n",
       "  <tbody>\n",
       "    <tr>\n",
       "      <th>2</th>\n",
       "      <td>0</td>\n",
       "    </tr>\n",
       "    <tr>\n",
       "      <th>3</th>\n",
       "      <td>1</td>\n",
       "    </tr>\n",
       "    <tr>\n",
       "      <th>4</th>\n",
       "      <td>0</td>\n",
       "    </tr>\n",
       "    <tr>\n",
       "      <th>5</th>\n",
       "      <td>0</td>\n",
       "    </tr>\n",
       "    <tr>\n",
       "      <th>6</th>\n",
       "      <td>0</td>\n",
       "    </tr>\n",
       "    <tr>\n",
       "      <th>...</th>\n",
       "      <td>...</td>\n",
       "    </tr>\n",
       "    <tr>\n",
       "      <th>71761</th>\n",
       "      <td>0</td>\n",
       "    </tr>\n",
       "    <tr>\n",
       "      <th>71762</th>\n",
       "      <td>0</td>\n",
       "    </tr>\n",
       "    <tr>\n",
       "      <th>71763</th>\n",
       "      <td>0</td>\n",
       "    </tr>\n",
       "    <tr>\n",
       "      <th>71764</th>\n",
       "      <td>0</td>\n",
       "    </tr>\n",
       "    <tr>\n",
       "      <th>71765</th>\n",
       "      <td>0</td>\n",
       "    </tr>\n",
       "  </tbody>\n",
       "</table>\n",
       "<p>62621 rows × 1 columns</p>\n",
       "</div>"
      ],
      "text/plain": [
       "       dummy_patio\n",
       "2                0\n",
       "3                1\n",
       "4                0\n",
       "5                0\n",
       "6                0\n",
       "...            ...\n",
       "71761            0\n",
       "71762            0\n",
       "71763            0\n",
       "71764            0\n",
       "71765            0\n",
       "\n",
       "[62621 rows x 1 columns]"
      ]
     },
     "execution_count": 11,
     "metadata": {},
     "output_type": "execute_result"
    }
   ],
   "source": [
    "dummy_patio = pd.get_dummies(data_para_dummies['patio'], prefix = \"dummy\")\n",
    "dummy_patio"
   ]
  },
  {
   "cell_type": "markdown",
   "metadata": {},
   "source": [
    "### Quincho"
   ]
  },
  {
   "cell_type": "code",
   "execution_count": 12,
   "metadata": {},
   "outputs": [
    {
     "data": {
      "text/html": [
       "<div>\n",
       "<style scoped>\n",
       "    .dataframe tbody tr th:only-of-type {\n",
       "        vertical-align: middle;\n",
       "    }\n",
       "\n",
       "    .dataframe tbody tr th {\n",
       "        vertical-align: top;\n",
       "    }\n",
       "\n",
       "    .dataframe thead th {\n",
       "        text-align: right;\n",
       "    }\n",
       "</style>\n",
       "<table border=\"1\" class=\"dataframe\">\n",
       "  <thead>\n",
       "    <tr style=\"text-align: right;\">\n",
       "      <th></th>\n",
       "      <th>dummy_quincho</th>\n",
       "    </tr>\n",
       "  </thead>\n",
       "  <tbody>\n",
       "    <tr>\n",
       "      <th>2</th>\n",
       "      <td>0</td>\n",
       "    </tr>\n",
       "    <tr>\n",
       "      <th>3</th>\n",
       "      <td>0</td>\n",
       "    </tr>\n",
       "    <tr>\n",
       "      <th>4</th>\n",
       "      <td>0</td>\n",
       "    </tr>\n",
       "    <tr>\n",
       "      <th>5</th>\n",
       "      <td>0</td>\n",
       "    </tr>\n",
       "    <tr>\n",
       "      <th>6</th>\n",
       "      <td>0</td>\n",
       "    </tr>\n",
       "    <tr>\n",
       "      <th>...</th>\n",
       "      <td>...</td>\n",
       "    </tr>\n",
       "    <tr>\n",
       "      <th>71761</th>\n",
       "      <td>0</td>\n",
       "    </tr>\n",
       "    <tr>\n",
       "      <th>71762</th>\n",
       "      <td>0</td>\n",
       "    </tr>\n",
       "    <tr>\n",
       "      <th>71763</th>\n",
       "      <td>0</td>\n",
       "    </tr>\n",
       "    <tr>\n",
       "      <th>71764</th>\n",
       "      <td>0</td>\n",
       "    </tr>\n",
       "    <tr>\n",
       "      <th>71765</th>\n",
       "      <td>0</td>\n",
       "    </tr>\n",
       "  </tbody>\n",
       "</table>\n",
       "<p>62621 rows × 1 columns</p>\n",
       "</div>"
      ],
      "text/plain": [
       "       dummy_quincho\n",
       "2                  0\n",
       "3                  0\n",
       "4                  0\n",
       "5                  0\n",
       "6                  0\n",
       "...              ...\n",
       "71761              0\n",
       "71762              0\n",
       "71763              0\n",
       "71764              0\n",
       "71765              0\n",
       "\n",
       "[62621 rows x 1 columns]"
      ]
     },
     "execution_count": 12,
     "metadata": {},
     "output_type": "execute_result"
    }
   ],
   "source": [
    "dummy_quincho = pd.get_dummies(data_para_dummies['quincho'], prefix = \"dummy\")\n",
    "dummy_quincho"
   ]
  },
  {
   "cell_type": "markdown",
   "metadata": {},
   "source": [
    "### Gimnasio"
   ]
  },
  {
   "cell_type": "code",
   "execution_count": 13,
   "metadata": {},
   "outputs": [
    {
     "data": {
      "text/html": [
       "<div>\n",
       "<style scoped>\n",
       "    .dataframe tbody tr th:only-of-type {\n",
       "        vertical-align: middle;\n",
       "    }\n",
       "\n",
       "    .dataframe tbody tr th {\n",
       "        vertical-align: top;\n",
       "    }\n",
       "\n",
       "    .dataframe thead th {\n",
       "        text-align: right;\n",
       "    }\n",
       "</style>\n",
       "<table border=\"1\" class=\"dataframe\">\n",
       "  <thead>\n",
       "    <tr style=\"text-align: right;\">\n",
       "      <th></th>\n",
       "      <th>dummy_gimnasio</th>\n",
       "    </tr>\n",
       "  </thead>\n",
       "  <tbody>\n",
       "    <tr>\n",
       "      <th>2</th>\n",
       "      <td>0</td>\n",
       "    </tr>\n",
       "    <tr>\n",
       "      <th>3</th>\n",
       "      <td>0</td>\n",
       "    </tr>\n",
       "    <tr>\n",
       "      <th>4</th>\n",
       "      <td>0</td>\n",
       "    </tr>\n",
       "    <tr>\n",
       "      <th>5</th>\n",
       "      <td>0</td>\n",
       "    </tr>\n",
       "    <tr>\n",
       "      <th>6</th>\n",
       "      <td>0</td>\n",
       "    </tr>\n",
       "    <tr>\n",
       "      <th>...</th>\n",
       "      <td>...</td>\n",
       "    </tr>\n",
       "    <tr>\n",
       "      <th>71761</th>\n",
       "      <td>0</td>\n",
       "    </tr>\n",
       "    <tr>\n",
       "      <th>71762</th>\n",
       "      <td>1</td>\n",
       "    </tr>\n",
       "    <tr>\n",
       "      <th>71763</th>\n",
       "      <td>0</td>\n",
       "    </tr>\n",
       "    <tr>\n",
       "      <th>71764</th>\n",
       "      <td>0</td>\n",
       "    </tr>\n",
       "    <tr>\n",
       "      <th>71765</th>\n",
       "      <td>0</td>\n",
       "    </tr>\n",
       "  </tbody>\n",
       "</table>\n",
       "<p>62621 rows × 1 columns</p>\n",
       "</div>"
      ],
      "text/plain": [
       "       dummy_gimnasio\n",
       "2                   0\n",
       "3                   0\n",
       "4                   0\n",
       "5                   0\n",
       "6                   0\n",
       "...               ...\n",
       "71761               0\n",
       "71762               1\n",
       "71763               0\n",
       "71764               0\n",
       "71765               0\n",
       "\n",
       "[62621 rows x 1 columns]"
      ]
     },
     "execution_count": 13,
     "metadata": {},
     "output_type": "execute_result"
    }
   ],
   "source": [
    "dummy_gimnasio = pd.get_dummies(data_para_dummies['gimnasio'], prefix = \"dummy\")\n",
    "dummy_gimnasio"
   ]
  },
  {
   "cell_type": "markdown",
   "metadata": {},
   "source": [
    "### SUM"
   ]
  },
  {
   "cell_type": "code",
   "execution_count": 14,
   "metadata": {},
   "outputs": [
    {
     "data": {
      "text/html": [
       "<div>\n",
       "<style scoped>\n",
       "    .dataframe tbody tr th:only-of-type {\n",
       "        vertical-align: middle;\n",
       "    }\n",
       "\n",
       "    .dataframe tbody tr th {\n",
       "        vertical-align: top;\n",
       "    }\n",
       "\n",
       "    .dataframe thead th {\n",
       "        text-align: right;\n",
       "    }\n",
       "</style>\n",
       "<table border=\"1\" class=\"dataframe\">\n",
       "  <thead>\n",
       "    <tr style=\"text-align: right;\">\n",
       "      <th></th>\n",
       "      <th>dummy_sum</th>\n",
       "    </tr>\n",
       "  </thead>\n",
       "  <tbody>\n",
       "    <tr>\n",
       "      <th>2</th>\n",
       "      <td>0</td>\n",
       "    </tr>\n",
       "    <tr>\n",
       "      <th>3</th>\n",
       "      <td>0</td>\n",
       "    </tr>\n",
       "    <tr>\n",
       "      <th>4</th>\n",
       "      <td>0</td>\n",
       "    </tr>\n",
       "    <tr>\n",
       "      <th>5</th>\n",
       "      <td>0</td>\n",
       "    </tr>\n",
       "    <tr>\n",
       "      <th>6</th>\n",
       "      <td>0</td>\n",
       "    </tr>\n",
       "    <tr>\n",
       "      <th>...</th>\n",
       "      <td>...</td>\n",
       "    </tr>\n",
       "    <tr>\n",
       "      <th>71761</th>\n",
       "      <td>0</td>\n",
       "    </tr>\n",
       "    <tr>\n",
       "      <th>71762</th>\n",
       "      <td>1</td>\n",
       "    </tr>\n",
       "    <tr>\n",
       "      <th>71763</th>\n",
       "      <td>0</td>\n",
       "    </tr>\n",
       "    <tr>\n",
       "      <th>71764</th>\n",
       "      <td>0</td>\n",
       "    </tr>\n",
       "    <tr>\n",
       "      <th>71765</th>\n",
       "      <td>0</td>\n",
       "    </tr>\n",
       "  </tbody>\n",
       "</table>\n",
       "<p>62621 rows × 1 columns</p>\n",
       "</div>"
      ],
      "text/plain": [
       "       dummy_sum\n",
       "2              0\n",
       "3              0\n",
       "4              0\n",
       "5              0\n",
       "6              0\n",
       "...          ...\n",
       "71761          0\n",
       "71762          1\n",
       "71763          0\n",
       "71764          0\n",
       "71765          0\n",
       "\n",
       "[62621 rows x 1 columns]"
      ]
     },
     "execution_count": 14,
     "metadata": {},
     "output_type": "execute_result"
    }
   ],
   "source": [
    "dummy_sum = pd.get_dummies(data_para_dummies['sala_usos_multiples'], prefix = \"dummy\")\n",
    "dummy_sum"
   ]
  },
  {
   "cell_type": "markdown",
   "metadata": {},
   "source": [
    "### Cochera"
   ]
  },
  {
   "cell_type": "code",
   "execution_count": 15,
   "metadata": {},
   "outputs": [
    {
     "data": {
      "text/html": [
       "<div>\n",
       "<style scoped>\n",
       "    .dataframe tbody tr th:only-of-type {\n",
       "        vertical-align: middle;\n",
       "    }\n",
       "\n",
       "    .dataframe tbody tr th {\n",
       "        vertical-align: top;\n",
       "    }\n",
       "\n",
       "    .dataframe thead th {\n",
       "        text-align: right;\n",
       "    }\n",
       "</style>\n",
       "<table border=\"1\" class=\"dataframe\">\n",
       "  <thead>\n",
       "    <tr style=\"text-align: right;\">\n",
       "      <th></th>\n",
       "      <th>dummy_cochera</th>\n",
       "    </tr>\n",
       "  </thead>\n",
       "  <tbody>\n",
       "    <tr>\n",
       "      <th>2</th>\n",
       "      <td>0</td>\n",
       "    </tr>\n",
       "    <tr>\n",
       "      <th>3</th>\n",
       "      <td>0</td>\n",
       "    </tr>\n",
       "    <tr>\n",
       "      <th>4</th>\n",
       "      <td>0</td>\n",
       "    </tr>\n",
       "    <tr>\n",
       "      <th>5</th>\n",
       "      <td>0</td>\n",
       "    </tr>\n",
       "    <tr>\n",
       "      <th>6</th>\n",
       "      <td>0</td>\n",
       "    </tr>\n",
       "    <tr>\n",
       "      <th>...</th>\n",
       "      <td>...</td>\n",
       "    </tr>\n",
       "    <tr>\n",
       "      <th>71761</th>\n",
       "      <td>0</td>\n",
       "    </tr>\n",
       "    <tr>\n",
       "      <th>71762</th>\n",
       "      <td>1</td>\n",
       "    </tr>\n",
       "    <tr>\n",
       "      <th>71763</th>\n",
       "      <td>0</td>\n",
       "    </tr>\n",
       "    <tr>\n",
       "      <th>71764</th>\n",
       "      <td>1</td>\n",
       "    </tr>\n",
       "    <tr>\n",
       "      <th>71765</th>\n",
       "      <td>0</td>\n",
       "    </tr>\n",
       "  </tbody>\n",
       "</table>\n",
       "<p>62621 rows × 1 columns</p>\n",
       "</div>"
      ],
      "text/plain": [
       "       dummy_cochera\n",
       "2                  0\n",
       "3                  0\n",
       "4                  0\n",
       "5                  0\n",
       "6                  0\n",
       "...              ...\n",
       "71761              0\n",
       "71762              1\n",
       "71763              0\n",
       "71764              1\n",
       "71765              0\n",
       "\n",
       "[62621 rows x 1 columns]"
      ]
     },
     "execution_count": 15,
     "metadata": {},
     "output_type": "execute_result"
    }
   ],
   "source": [
    "dummy_cochera = pd.get_dummies(data_para_dummies['cochera'], prefix = \"dummy\")\n",
    "dummy_cochera"
   ]
  },
  {
   "cell_type": "markdown",
   "metadata": {},
   "source": [
    "### Seguridad"
   ]
  },
  {
   "cell_type": "code",
   "execution_count": 16,
   "metadata": {},
   "outputs": [
    {
     "data": {
      "text/html": [
       "<div>\n",
       "<style scoped>\n",
       "    .dataframe tbody tr th:only-of-type {\n",
       "        vertical-align: middle;\n",
       "    }\n",
       "\n",
       "    .dataframe tbody tr th {\n",
       "        vertical-align: top;\n",
       "    }\n",
       "\n",
       "    .dataframe thead th {\n",
       "        text-align: right;\n",
       "    }\n",
       "</style>\n",
       "<table border=\"1\" class=\"dataframe\">\n",
       "  <thead>\n",
       "    <tr style=\"text-align: right;\">\n",
       "      <th></th>\n",
       "      <th>dummy_seguridad</th>\n",
       "    </tr>\n",
       "  </thead>\n",
       "  <tbody>\n",
       "    <tr>\n",
       "      <th>2</th>\n",
       "      <td>0</td>\n",
       "    </tr>\n",
       "    <tr>\n",
       "      <th>3</th>\n",
       "      <td>0</td>\n",
       "    </tr>\n",
       "    <tr>\n",
       "      <th>4</th>\n",
       "      <td>0</td>\n",
       "    </tr>\n",
       "    <tr>\n",
       "      <th>5</th>\n",
       "      <td>0</td>\n",
       "    </tr>\n",
       "    <tr>\n",
       "      <th>6</th>\n",
       "      <td>0</td>\n",
       "    </tr>\n",
       "    <tr>\n",
       "      <th>...</th>\n",
       "      <td>...</td>\n",
       "    </tr>\n",
       "    <tr>\n",
       "      <th>71761</th>\n",
       "      <td>0</td>\n",
       "    </tr>\n",
       "    <tr>\n",
       "      <th>71762</th>\n",
       "      <td>0</td>\n",
       "    </tr>\n",
       "    <tr>\n",
       "      <th>71763</th>\n",
       "      <td>0</td>\n",
       "    </tr>\n",
       "    <tr>\n",
       "      <th>71764</th>\n",
       "      <td>0</td>\n",
       "    </tr>\n",
       "    <tr>\n",
       "      <th>71765</th>\n",
       "      <td>0</td>\n",
       "    </tr>\n",
       "  </tbody>\n",
       "</table>\n",
       "<p>62621 rows × 1 columns</p>\n",
       "</div>"
      ],
      "text/plain": [
       "       dummy_seguridad\n",
       "2                    0\n",
       "3                    0\n",
       "4                    0\n",
       "5                    0\n",
       "6                    0\n",
       "...                ...\n",
       "71761                0\n",
       "71762                0\n",
       "71763                0\n",
       "71764                0\n",
       "71765                0\n",
       "\n",
       "[62621 rows x 1 columns]"
      ]
     },
     "execution_count": 16,
     "metadata": {},
     "output_type": "execute_result"
    }
   ],
   "source": [
    "dummy_seguridad = pd.get_dummies(data_para_dummies['seguridad'], prefix = \"dummy\")\n",
    "dummy_seguridad"
   ]
  },
  {
   "cell_type": "markdown",
   "metadata": {},
   "source": [
    "### Jardín"
   ]
  },
  {
   "cell_type": "code",
   "execution_count": 17,
   "metadata": {},
   "outputs": [
    {
     "data": {
      "text/html": [
       "<div>\n",
       "<style scoped>\n",
       "    .dataframe tbody tr th:only-of-type {\n",
       "        vertical-align: middle;\n",
       "    }\n",
       "\n",
       "    .dataframe tbody tr th {\n",
       "        vertical-align: top;\n",
       "    }\n",
       "\n",
       "    .dataframe thead th {\n",
       "        text-align: right;\n",
       "    }\n",
       "</style>\n",
       "<table border=\"1\" class=\"dataframe\">\n",
       "  <thead>\n",
       "    <tr style=\"text-align: right;\">\n",
       "      <th></th>\n",
       "      <th>dummy_jardin</th>\n",
       "    </tr>\n",
       "  </thead>\n",
       "  <tbody>\n",
       "    <tr>\n",
       "      <th>2</th>\n",
       "      <td>0</td>\n",
       "    </tr>\n",
       "    <tr>\n",
       "      <th>3</th>\n",
       "      <td>0</td>\n",
       "    </tr>\n",
       "    <tr>\n",
       "      <th>4</th>\n",
       "      <td>0</td>\n",
       "    </tr>\n",
       "    <tr>\n",
       "      <th>5</th>\n",
       "      <td>0</td>\n",
       "    </tr>\n",
       "    <tr>\n",
       "      <th>6</th>\n",
       "      <td>0</td>\n",
       "    </tr>\n",
       "    <tr>\n",
       "      <th>...</th>\n",
       "      <td>...</td>\n",
       "    </tr>\n",
       "    <tr>\n",
       "      <th>71761</th>\n",
       "      <td>0</td>\n",
       "    </tr>\n",
       "    <tr>\n",
       "      <th>71762</th>\n",
       "      <td>0</td>\n",
       "    </tr>\n",
       "    <tr>\n",
       "      <th>71763</th>\n",
       "      <td>0</td>\n",
       "    </tr>\n",
       "    <tr>\n",
       "      <th>71764</th>\n",
       "      <td>0</td>\n",
       "    </tr>\n",
       "    <tr>\n",
       "      <th>71765</th>\n",
       "      <td>0</td>\n",
       "    </tr>\n",
       "  </tbody>\n",
       "</table>\n",
       "<p>62621 rows × 1 columns</p>\n",
       "</div>"
      ],
      "text/plain": [
       "       dummy_jardin\n",
       "2                 0\n",
       "3                 0\n",
       "4                 0\n",
       "5                 0\n",
       "6                 0\n",
       "...             ...\n",
       "71761             0\n",
       "71762             0\n",
       "71763             0\n",
       "71764             0\n",
       "71765             0\n",
       "\n",
       "[62621 rows x 1 columns]"
      ]
     },
     "execution_count": 17,
     "metadata": {},
     "output_type": "execute_result"
    }
   ],
   "source": [
    "dummy_jardin = pd.get_dummies(data_para_dummies['jardin'], prefix = \"dummy\")\n",
    "dummy_jardin"
   ]
  },
  {
   "cell_type": "markdown",
   "metadata": {},
   "source": [
    "### Frente"
   ]
  },
  {
   "cell_type": "code",
   "execution_count": 18,
   "metadata": {},
   "outputs": [
    {
     "data": {
      "text/html": [
       "<div>\n",
       "<style scoped>\n",
       "    .dataframe tbody tr th:only-of-type {\n",
       "        vertical-align: middle;\n",
       "    }\n",
       "\n",
       "    .dataframe tbody tr th {\n",
       "        vertical-align: top;\n",
       "    }\n",
       "\n",
       "    .dataframe thead th {\n",
       "        text-align: right;\n",
       "    }\n",
       "</style>\n",
       "<table border=\"1\" class=\"dataframe\">\n",
       "  <thead>\n",
       "    <tr style=\"text-align: right;\">\n",
       "      <th></th>\n",
       "      <th>dummy_frente</th>\n",
       "    </tr>\n",
       "  </thead>\n",
       "  <tbody>\n",
       "    <tr>\n",
       "      <th>2</th>\n",
       "      <td>1</td>\n",
       "    </tr>\n",
       "    <tr>\n",
       "      <th>3</th>\n",
       "      <td>1</td>\n",
       "    </tr>\n",
       "    <tr>\n",
       "      <th>4</th>\n",
       "      <td>0</td>\n",
       "    </tr>\n",
       "    <tr>\n",
       "      <th>5</th>\n",
       "      <td>0</td>\n",
       "    </tr>\n",
       "    <tr>\n",
       "      <th>6</th>\n",
       "      <td>1</td>\n",
       "    </tr>\n",
       "    <tr>\n",
       "      <th>...</th>\n",
       "      <td>...</td>\n",
       "    </tr>\n",
       "    <tr>\n",
       "      <th>71761</th>\n",
       "      <td>0</td>\n",
       "    </tr>\n",
       "    <tr>\n",
       "      <th>71762</th>\n",
       "      <td>1</td>\n",
       "    </tr>\n",
       "    <tr>\n",
       "      <th>71763</th>\n",
       "      <td>1</td>\n",
       "    </tr>\n",
       "    <tr>\n",
       "      <th>71764</th>\n",
       "      <td>0</td>\n",
       "    </tr>\n",
       "    <tr>\n",
       "      <th>71765</th>\n",
       "      <td>1</td>\n",
       "    </tr>\n",
       "  </tbody>\n",
       "</table>\n",
       "<p>62621 rows × 1 columns</p>\n",
       "</div>"
      ],
      "text/plain": [
       "       dummy_frente\n",
       "2                 1\n",
       "3                 1\n",
       "4                 0\n",
       "5                 0\n",
       "6                 1\n",
       "...             ...\n",
       "71761             0\n",
       "71762             1\n",
       "71763             1\n",
       "71764             0\n",
       "71765             1\n",
       "\n",
       "[62621 rows x 1 columns]"
      ]
     },
     "execution_count": 18,
     "metadata": {},
     "output_type": "execute_result"
    }
   ],
   "source": [
    "dummy_frente = pd.get_dummies(data_para_dummies['frente'], prefix = \"dummy\")\n",
    "dummy_frente"
   ]
  },
  {
   "cell_type": "code",
   "execution_count": 19,
   "metadata": {},
   "outputs": [],
   "source": [
    "dummy_amenities = dummy_balcon.dummy_balcon + dummy_parrilla.dummy_parrilla + dummy_pileta.dummy_pileta + dummy_patio.dummy_patio + dummy_quincho.dummy_quincho + dummy_gimnasio.dummy_gimnasio + dummy_sum.dummy_sum + dummy_cochera.dummy_cochera + dummy_seguridad.dummy_seguridad + dummy_jardin.dummy_jardin + dummy_frente.dummy_frente\n",
    "dummy_amenities.name = \"dummy_amenities\""
   ]
  },
  {
   "cell_type": "code",
   "execution_count": 20,
   "metadata": {},
   "outputs": [
    {
     "data": {
      "text/plain": [
       "1     16726\n",
       "2     15485\n",
       "0     11093\n",
       "3      9686\n",
       "4      5526\n",
       "5      2665\n",
       "6       994\n",
       "7       402\n",
       "8        38\n",
       "10        4\n",
       "9         2\n",
       "Name: dummy_amenities, dtype: int64"
      ]
     },
     "execution_count": 20,
     "metadata": {},
     "output_type": "execute_result"
    }
   ],
   "source": [
    "dummy_amenities.value_counts()"
   ]
  },
  {
   "cell_type": "markdown",
   "metadata": {},
   "source": [
    "### Unificación de dummies en un dataset"
   ]
  },
  {
   "cell_type": "code",
   "execution_count": 21,
   "metadata": {},
   "outputs": [
    {
     "data": {
      "text/plain": [
       "Index(['property_type', 'price', 'surface_covered_in_m2', 'Partido',\n",
       "       'precio_usd_por_m2', 'ambientes_train', 'ambientes_imputados',\n",
       "       'ambientes_final', 'balcon', 'parrilla', 'pileta', 'patio', 'quincho',\n",
       "       'gimnasio', 'sala_usos_multiples', 'cochera', 'seguridad', 'jardin',\n",
       "       'frente', 'dummy_amenities', 'partido_Almagro',\n",
       "       'partido_Almirante Brown', 'partido_Avellaneda', 'partido_Bahía Blanca',\n",
       "       'partido_Balvanera', 'partido_Barracas', 'partido_Barrio Norte',\n",
       "       'partido_Belgrano', 'partido_Boedo', 'partido_Caballito',\n",
       "       'partido_Colegiales', 'partido_Córdoba', 'partido_Escobar',\n",
       "       'partido_Esteban Echeverría', 'partido_Ezeiza', 'partido_Flores',\n",
       "       'partido_Floresta', 'partido_General San Martín', 'partido_Ituzaingó',\n",
       "       'partido_La Matanza', 'partido_La Plata', 'partido_Lanús',\n",
       "       'partido_Lomas de Zamora', 'partido_Mar del Plata', 'partido_Monserrat',\n",
       "       'partido_Moreno', 'partido_Morón', 'partido_Nuñez', 'partido_Palermo',\n",
       "       'partido_Pilar', 'partido_Pinamar', 'partido_Punilla',\n",
       "       'partido_Quilmes', 'partido_Recoleta', 'partido_Rosario',\n",
       "       'partido_Saavedra', 'partido_San Cristobal', 'partido_San Fernando',\n",
       "       'partido_San Isidro', 'partido_San Miguel', 'partido_San Telmo',\n",
       "       'partido_Tigre', 'partido_Tres de Febrero', 'partido_Vicente López',\n",
       "       'partido_Villa Carlos Paz', 'partido_Villa Crespo',\n",
       "       'partido_Villa Devoto', 'partido_Villa Luro', 'partido_Villa Urquiza',\n",
       "       'partido_Villa del Parque', 'prop_PH', 'prop_apartment', 'prop_house',\n",
       "       'amb_1.0', 'amb_2.0', 'amb_3.0', 'amb_4.0', 'amb_5.0', 'amb_6.0',\n",
       "       'amb_7.0'],\n",
       "      dtype='object')"
      ]
     },
     "execution_count": 21,
     "metadata": {},
     "output_type": "execute_result"
    }
   ],
   "source": [
    "data_con_dummies = pd.concat([data_para_dummies, dummy_amenities, dummy_partido, dummy_prop, dummy_amb],axis=1)\n",
    "data_con_dummies.columns"
   ]
  },
  {
   "cell_type": "markdown",
   "metadata": {},
   "source": [
    "# 3) Creación de modelo uninominal"
   ]
  },
  {
   "cell_type": "markdown",
   "metadata": {},
   "source": [
    "## Aplicación en todo el dataset"
   ]
  },
  {
   "cell_type": "code",
   "execution_count": 22,
   "metadata": {},
   "outputs": [],
   "source": [
    "X_train_todo_dataset = data_con_dummies[data_con_dummies.ambientes_imputados == 0].drop([\"property_type\", \"price\", \"surface_covered_in_m2\", \"Partido\", \"ambientes_train\",\n",
    "                                                                          \"ambientes_imputados\", \"ambientes_final\", \"balcon\", \"parrilla\", \"pileta\", \"patio\",\n",
    "                                                                          \"quincho\", \"gimnasio\", \"sala_usos_multiples\", \"cochera\", \"seguridad\", \"jardin\", \"frente\"], axis = 1)\n",
    "X_test_todo_dataset = data_con_dummies[data_con_dummies.ambientes_train == 0].drop([\"property_type\", \"price\", \"surface_covered_in_m2\", \"Partido\", \"ambientes_train\",\n",
    "                                                                          \"ambientes_imputados\", \"ambientes_final\", \"balcon\", \"parrilla\", \"pileta\", \"patio\",\n",
    "                                                                          \"quincho\", \"gimnasio\", \"sala_usos_multiples\", \"cochera\", \"seguridad\", \"jardin\", \"frente\"], axis = 1)\n",
    "Y_train_todo_dataset = X_train_todo_dataset[\"precio_usd_por_m2\"]\n",
    "Y_test_todo_dataset = X_test_todo_dataset[\"precio_usd_por_m2\"]\n",
    "\n",
    "X_train_todo_dataset.drop([\"precio_usd_por_m2\"], axis = 1, inplace = True)\n",
    "X_test_todo_dataset.drop([\"precio_usd_por_m2\"], axis = 1, inplace = True)"
   ]
  },
  {
   "cell_type": "code",
   "execution_count": 23,
   "metadata": {},
   "outputs": [
    {
     "data": {
      "text/plain": [
       "(62621, 80)"
      ]
     },
     "execution_count": 23,
     "metadata": {},
     "output_type": "execute_result"
    }
   ],
   "source": [
    "data_con_dummies.shape"
   ]
  },
  {
   "cell_type": "code",
   "execution_count": 24,
   "metadata": {},
   "outputs": [
    {
     "data": {
      "text/plain": [
       "Index(['dummy_amenities', 'partido_Almagro', 'partido_Almirante Brown',\n",
       "       'partido_Avellaneda', 'partido_Bahía Blanca', 'partido_Balvanera',\n",
       "       'partido_Barracas', 'partido_Barrio Norte', 'partido_Belgrano',\n",
       "       'partido_Boedo', 'partido_Caballito', 'partido_Colegiales',\n",
       "       'partido_Córdoba', 'partido_Escobar', 'partido_Esteban Echeverría',\n",
       "       'partido_Ezeiza', 'partido_Flores', 'partido_Floresta',\n",
       "       'partido_General San Martín', 'partido_Ituzaingó', 'partido_La Matanza',\n",
       "       'partido_La Plata', 'partido_Lanús', 'partido_Lomas de Zamora',\n",
       "       'partido_Mar del Plata', 'partido_Monserrat', 'partido_Moreno',\n",
       "       'partido_Morón', 'partido_Nuñez', 'partido_Palermo', 'partido_Pilar',\n",
       "       'partido_Pinamar', 'partido_Punilla', 'partido_Quilmes',\n",
       "       'partido_Recoleta', 'partido_Rosario', 'partido_Saavedra',\n",
       "       'partido_San Cristobal', 'partido_San Fernando', 'partido_San Isidro',\n",
       "       'partido_San Miguel', 'partido_San Telmo', 'partido_Tigre',\n",
       "       'partido_Tres de Febrero', 'partido_Vicente López',\n",
       "       'partido_Villa Carlos Paz', 'partido_Villa Crespo',\n",
       "       'partido_Villa Devoto', 'partido_Villa Luro', 'partido_Villa Urquiza',\n",
       "       'partido_Villa del Parque', 'prop_PH', 'prop_apartment', 'prop_house',\n",
       "       'amb_1.0', 'amb_2.0', 'amb_3.0', 'amb_4.0', 'amb_5.0', 'amb_6.0',\n",
       "       'amb_7.0'],\n",
       "      dtype='object')"
      ]
     },
     "execution_count": 24,
     "metadata": {},
     "output_type": "execute_result"
    }
   ],
   "source": [
    "X_train_todo_dataset.columns"
   ]
  },
  {
   "cell_type": "markdown",
   "metadata": {},
   "source": [
    "#### Creación de los elementos a utilizar"
   ]
  },
  {
   "cell_type": "code",
   "execution_count": 25,
   "metadata": {},
   "outputs": [],
   "source": [
    "lm_todo_dataset = linear_model.LinearRegression()\n",
    "# Fiteamos el modelo sobre los vectores X e Y.\n",
    "model_todo_dataset = lm_todo_dataset.fit(X_train_todo_dataset, Y_train_todo_dataset)"
   ]
  },
  {
   "cell_type": "markdown",
   "metadata": {},
   "source": [
    "#### Aplicación del modelo en los datos"
   ]
  },
  {
   "cell_type": "code",
   "execution_count": 26,
   "metadata": {},
   "outputs": [
    {
     "name": "stdout",
     "output_type": "stream",
     "text": [
      "Intercepto = 1651497354412168.2\n",
      "RM = [ 6.49392431e+01  3.72125512e+14  3.72125512e+14  3.72125512e+14\n",
      "  3.72125512e+14  3.72125512e+14  3.72125512e+14  3.72125512e+14\n",
      "  3.72125512e+14  3.72125512e+14  3.72125512e+14  3.72125512e+14\n",
      "  3.72125512e+14  3.72125512e+14  3.72125512e+14  3.72125512e+14\n",
      "  3.72125512e+14  3.72125512e+14  3.72125512e+14  3.72125512e+14\n",
      "  3.72125512e+14  3.72125512e+14  3.72125512e+14  3.72125512e+14\n",
      "  3.72125512e+14  3.72125512e+14  3.72125512e+14  3.72125512e+14\n",
      "  3.72125512e+14  3.72125512e+14  3.72125512e+14  3.72125512e+14\n",
      "  3.72125512e+14  3.72125512e+14  3.72125512e+14  3.72125512e+14\n",
      "  3.72125512e+14  3.72125512e+14  3.72125512e+14  3.72125512e+14\n",
      "  3.72125512e+14  3.72125512e+14  3.72125512e+14  3.72125512e+14\n",
      "  3.72125512e+14  3.72125512e+14  3.72125512e+14  3.72125512e+14\n",
      "  3.72125512e+14  3.72125512e+14  3.72125512e+14 -9.23656820e+14\n",
      " -9.23656820e+14 -9.23656820e+14 -1.09996605e+15 -1.09996605e+15\n",
      " -1.09996605e+15 -1.09996605e+15 -1.09996605e+15 -1.09996605e+15\n",
      " -1.09996605e+15]\n",
      "R2_train = 0.542463277794585\n"
     ]
    }
   ],
   "source": [
    "# Guardamos  las predicciones en un nuevo vector que llamaremos predictions.\n",
    "predictions_todo_dataset = lm_todo_dataset.predict(X_test_todo_dataset)\n",
    "\n",
    "# Imprimimos el intercepto y los coeficientes como atributos del objeto entrenado.\n",
    "print ('Intercepto =', model_todo_dataset.intercept_)\n",
    "print ('RM =', model_todo_dataset.coef_)\n",
    "\n",
    "# Imprimos la metrica que mide la bondad de ajusto del modelo. En este caso el R2.\n",
    "print ('R2_train =', model_todo_dataset.score(X_train_todo_dataset, Y_train_todo_dataset))"
   ]
  },
  {
   "cell_type": "markdown",
   "metadata": {},
   "source": [
    "#### Obtención de métricas"
   ]
  },
  {
   "cell_type": "code",
   "execution_count": 27,
   "metadata": {},
   "outputs": [
    {
     "data": {
      "text/plain": [
       "2144.7300796479353"
      ]
     },
     "execution_count": 27,
     "metadata": {},
     "output_type": "execute_result"
    }
   ],
   "source": [
    "#media del precio_usd_por_m2\n",
    "data_con_dummies.precio_usd_por_m2.mean()"
   ]
  },
  {
   "cell_type": "code",
   "execution_count": 28,
   "metadata": {},
   "outputs": [
    {
     "data": {
      "text/plain": [
       "397.4560845822503"
      ]
     },
     "execution_count": 28,
     "metadata": {},
     "output_type": "execute_result"
    }
   ],
   "source": [
    "# Error absoluto de la media\n",
    "mean_absolute_error(Y_test_todo_dataset, predictions_todo_dataset)"
   ]
  },
  {
   "cell_type": "code",
   "execution_count": 29,
   "metadata": {},
   "outputs": [
    {
     "data": {
      "text/plain": [
       "295131.3959073914"
      ]
     },
     "execution_count": 29,
     "metadata": {},
     "output_type": "execute_result"
    }
   ],
   "source": [
    "# Raiz cuadrada de la media del error\n",
    "mean_squared_error(Y_test_todo_dataset, predictions_todo_dataset)"
   ]
  },
  {
   "cell_type": "code",
   "execution_count": 30,
   "metadata": {},
   "outputs": [
    {
     "data": {
      "text/plain": [
       "543.2599708310851"
      ]
     },
     "execution_count": 30,
     "metadata": {},
     "output_type": "execute_result"
    }
   ],
   "source": [
    "# Raiz cuadrada de la media del error\n",
    "RMSE = np.sqrt(mean_squared_error(Y_test_todo_dataset, predictions_todo_dataset))\n",
    "RMSE"
   ]
  },
  {
   "cell_type": "markdown",
   "metadata": {},
   "source": [
    "#### Análisis para Regresion Lineal"
   ]
  },
  {
   "cell_type": "markdown",
   "metadata": {},
   "source": [
    "En primer lugar, se obtiene el conjunto de datos residuales y se los grafica para observar su distribución."
   ]
  },
  {
   "cell_type": "code",
   "execution_count": 31,
   "metadata": {},
   "outputs": [],
   "source": [
    "test_residuals = Y_test_todo_dataset - predictions_todo_dataset"
   ]
  },
  {
   "cell_type": "code",
   "execution_count": 32,
   "metadata": {},
   "outputs": [
    {
     "data": {
      "text/plain": [
       "<AxesSubplot:xlabel='precio_usd_por_m2'>"
      ]
     },
     "execution_count": 32,
     "metadata": {},
     "output_type": "execute_result"
    },
    {
     "data": {
      "image/png": "[encoded data removed]",
      "text/plain": [
       "<Figure size 432x288 with 1 Axes>"
      ]
     },
     "metadata": {
      "needs_background": "light"
     },
     "output_type": "display_data"
    }
   ],
   "source": [
    "sns.distplot(test_residuals, kde = True)"
   ]
  },
  {
   "cell_type": "markdown",
   "metadata": {},
   "source": [
    "La distribucion de los Errores Residuales pareciera ser una Normal con media en 0. Igualmente, podría haber ser un caso del Cuarteto de Anscombe por lo que se procede graficando la probabilidad en torno a los quantiles."
   ]
  },
  {
   "cell_type": "code",
   "execution_count": 33,
   "metadata": {},
   "outputs": [
    {
     "data": {
      "text/plain": [
       "((array([-4.00199854, -3.7870279 , -3.66944762, ...,  3.66944762,\n",
       "          3.7870279 ,  4.00199854]),\n",
       "  array([-2105.65909091, -2094.94387755, -2047.55769231, ...,\n",
       "          3263.35449735,  3314.03571429,  3370.9       ])),\n",
       " (525.4023215775021, 90.55503658660638, 0.9806798710207816))"
      ]
     },
     "execution_count": 33,
     "metadata": {},
     "output_type": "execute_result"
    },
    {
     "data": {
      "image/png": "[encoded data removed]",
      "text/plain": [
       "<Figure size 300x400 with 1 Axes>"
      ]
     },
     "metadata": {
      "needs_background": "light"
     },
     "output_type": "display_data"
    }
   ],
   "source": [
    "fig,ax = plt.subplots(figsize = (3,4), dpi = 100)\n",
    "sp.stats.probplot(test_residuals,plot = ax)"
   ]
  },
  {
   "cell_type": "markdown",
   "metadata": {},
   "source": [
    "Con este gráfico se corrobora efectivamente que la distribución de los Errores Residuales se aproxima a una Distribución Normal y, por ende, se puede proceder con la creación de la regresion lineal."
   ]
  },
  {
   "cell_type": "code",
   "execution_count": 34,
   "metadata": {},
   "outputs": [
    {
     "data": {
      "text/plain": [
       "Text(0, 0.5, 'Error residual de Y test en precio por M2 en dólares')"
      ]
     },
     "execution_count": 34,
     "metadata": {},
     "output_type": "execute_result"
    },
    {
     "data": {
      "image/png": "[encoded data removed]",
      "text/plain": [
       "<Figure size 432x288 with 1 Axes>"
      ]
     },
     "metadata": {
      "needs_background": "light"
     },
     "output_type": "display_data"
    }
   ],
   "source": [
    "sns.scatterplot(x = Y_test_todo_dataset, y = test_residuals)\n",
    "plt.axhline(y = 0, color = 'r', ls = \"--\")\n",
    "plt.xlabel(\"Precio por M2 en dólares del Y test\")\n",
    "plt.ylabel(\"Error residual de Y test en precio por M2 en dólares\")"
   ]
  },
  {
   "cell_type": "markdown",
   "metadata": {},
   "source": [
    "## Regresión lineal entre superficie cubierta y precio por m2 en dólares"
   ]
  },
  {
   "cell_type": "code",
   "execution_count": 35,
   "metadata": {},
   "outputs": [],
   "source": [
    "X_train_superficie = data_con_dummies[data_con_dummies.ambientes_imputados == 0].drop(['property_type', 'price', 'Partido', 'ambientes_train', 'ambientes_imputados',\n",
    "       'ambientes_final', 'balcon', 'parrilla', 'pileta', 'patio', 'quincho',\n",
    "       'gimnasio', 'sala_usos_multiples', 'cochera', 'seguridad', 'jardin',\n",
    "       'frente', 'dummy_amenities', 'partido_Almagro',\n",
    "       'partido_Almirante Brown', 'partido_Avellaneda', 'partido_Bahía Blanca',\n",
    "       'partido_Balvanera', 'partido_Barracas', 'partido_Barrio Norte',\n",
    "       'partido_Belgrano', 'partido_Boedo', 'partido_Caballito',\n",
    "       'partido_Colegiales', 'partido_Córdoba', 'partido_Escobar',\n",
    "       'partido_Esteban Echeverría', 'partido_Ezeiza', 'partido_Flores',\n",
    "       'partido_Floresta', 'partido_General San Martín', 'partido_Ituzaingó',\n",
    "       'partido_La Matanza', 'partido_La Plata', 'partido_Lanús',\n",
    "       'partido_Lomas de Zamora', 'partido_Mar del Plata', 'partido_Monserrat',\n",
    "       'partido_Moreno', 'partido_Morón', 'partido_Nuñez', 'partido_Palermo',\n",
    "       'partido_Pilar', 'partido_Pinamar', 'partido_Punilla',\n",
    "       'partido_Quilmes', 'partido_Recoleta', 'partido_Rosario',\n",
    "       'partido_Saavedra', 'partido_San Cristobal', 'partido_San Fernando',\n",
    "       'partido_San Isidro', 'partido_San Miguel', 'partido_San Telmo',\n",
    "       'partido_Tigre', 'partido_Tres de Febrero', 'partido_Vicente López',\n",
    "       'partido_Villa Carlos Paz', 'partido_Villa Crespo',\n",
    "       'partido_Villa Devoto', 'partido_Villa Luro', 'partido_Villa Urquiza',\n",
    "       'partido_Villa del Parque', 'prop_PH', 'prop_apartment', 'prop_house',\n",
    "       'amb_1.0', 'amb_2.0', 'amb_3.0', 'amb_4.0', 'amb_5.0', 'amb_6.0',\n",
    "       'amb_7.0'], axis = 1)\n",
    "X_test_superficie = data_con_dummies[data_con_dummies.ambientes_train == 0].drop(['property_type', 'price', 'Partido', 'ambientes_train', 'ambientes_imputados',\n",
    "       'ambientes_final', 'balcon', 'parrilla', 'pileta', 'patio', 'quincho',\n",
    "       'gimnasio', 'sala_usos_multiples', 'cochera', 'seguridad', 'jardin',\n",
    "       'frente', 'dummy_amenities', 'partido_Almagro',\n",
    "       'partido_Almirante Brown', 'partido_Avellaneda', 'partido_Bahía Blanca',\n",
    "       'partido_Balvanera', 'partido_Barracas', 'partido_Barrio Norte',\n",
    "       'partido_Belgrano', 'partido_Boedo', 'partido_Caballito',\n",
    "       'partido_Colegiales', 'partido_Córdoba', 'partido_Escobar',\n",
    "       'partido_Esteban Echeverría', 'partido_Ezeiza', 'partido_Flores',\n",
    "       'partido_Floresta', 'partido_General San Martín', 'partido_Ituzaingó',\n",
    "       'partido_La Matanza', 'partido_La Plata', 'partido_Lanús',\n",
    "       'partido_Lomas de Zamora', 'partido_Mar del Plata', 'partido_Monserrat',\n",
    "       'partido_Moreno', 'partido_Morón', 'partido_Nuñez', 'partido_Palermo',\n",
    "       'partido_Pilar', 'partido_Pinamar', 'partido_Punilla',\n",
    "       'partido_Quilmes', 'partido_Recoleta', 'partido_Rosario',\n",
    "       'partido_Saavedra', 'partido_San Cristobal', 'partido_San Fernando',\n",
    "       'partido_San Isidro', 'partido_San Miguel', 'partido_San Telmo',\n",
    "       'partido_Tigre', 'partido_Tres de Febrero', 'partido_Vicente López',\n",
    "       'partido_Villa Carlos Paz', 'partido_Villa Crespo',\n",
    "       'partido_Villa Devoto', 'partido_Villa Luro', 'partido_Villa Urquiza',\n",
    "       'partido_Villa del Parque', 'prop_PH', 'prop_apartment', 'prop_house',\n",
    "       'amb_1.0', 'amb_2.0', 'amb_3.0', 'amb_4.0', 'amb_5.0', 'amb_6.0',\n",
    "       'amb_7.0'], axis = 1)\n",
    "Y_train_superficie = X_train_superficie[\"precio_usd_por_m2\"]\n",
    "Y_test_superficie = X_test_superficie[\"precio_usd_por_m2\"]\n",
    "\n",
    "X_train_superficie.drop([\"precio_usd_por_m2\"], axis = 1, inplace = True)\n",
    "X_test_superficie.drop([\"precio_usd_por_m2\"], axis = 1, inplace = True)"
   ]
  },
  {
   "cell_type": "code",
   "execution_count": 36,
   "metadata": {},
   "outputs": [],
   "source": [
    "lm_superficie = linear_model.LinearRegression()\n",
    "# Fiteamos el modelo sobre los vectores X e Y.\n",
    "model_superficie = lm_superficie.fit(X_train_superficie, Y_train_superficie)"
   ]
  },
  {
   "cell_type": "code",
   "execution_count": 37,
   "metadata": {
    "scrolled": true
   },
   "outputs": [
    {
     "name": "stdout",
     "output_type": "stream",
     "text": [
      "Intercepto = 2625.7158102776366\n",
      "RM = [-4.64378349]\n",
      "R2_train = 0.08378760201532154\n"
     ]
    }
   ],
   "source": [
    "# Guardamos  las predicciones en un nuevo vector que llamaremos predictions.\n",
    "predictions_superficie = lm_superficie.predict(X_test_superficie)\n",
    "\n",
    "# Imprimimos el intercepto y los coeficientes como atributos del objeto entrenado.\n",
    "print ('Intercepto =', model_superficie.intercept_)\n",
    "print ('RM =', model_superficie.coef_)\n",
    "\n",
    "# Imprimos la metrica que mide la bondad de ajusto del modelo. En este caso el R2.\n",
    "print ('R2_train =', model_superficie.score(X_train_superficie, Y_train_superficie))"
   ]
  },
  {
   "cell_type": "code",
   "execution_count": 38,
   "metadata": {},
   "outputs": [],
   "source": [
    "test_residuals_superficie = Y_test_superficie - predictions_superficie"
   ]
  },
  {
   "cell_type": "code",
   "execution_count": 39,
   "metadata": {},
   "outputs": [
    {
     "data": {
      "text/plain": [
       "Text(0, 0.5, 'Error residual de Y test en precio por M2 en dólares')"
      ]
     },
     "execution_count": 39,
     "metadata": {},
     "output_type": "execute_result"
    },
    {
     "data": {
      "image/png": "[encoded data removed]",
      "text/plain": [
       "<Figure size 432x288 with 1 Axes>"
      ]
     },
     "metadata": {
      "needs_background": "light"
     },
     "output_type": "display_data"
    }
   ],
   "source": [
    "sns.scatterplot(x = Y_test_superficie, y = test_residuals_superficie)\n",
    "plt.axhline(y = 0, color = 'r', ls = \"--\")\n",
    "plt.xlabel(\"Precio por M2 en dólares del Y test\")\n",
    "plt.ylabel(\"Error residual de Y test en precio por M2 en dólares\")"
   ]
  },
  {
   "cell_type": "code",
   "execution_count": 40,
   "metadata": {},
   "outputs": [
    {
     "data": {
      "text/plain": [
       "0.08378760201532154"
      ]
     },
     "execution_count": 40,
     "metadata": {},
     "output_type": "execute_result"
    }
   ],
   "source": [
    "# Imprimos la metrica que mide la bondad de ajusto del modelo. En este caso el R2.\n",
    "R2_train_superficie = model_superficie.score(X_train_superficie, Y_train_superficie)\n",
    "R2_train_superficie"
   ]
  },
  {
   "cell_type": "code",
   "execution_count": 41,
   "metadata": {},
   "outputs": [
    {
     "data": {
      "text/plain": [
       "630.7234348523389"
      ]
     },
     "execution_count": 41,
     "metadata": {},
     "output_type": "execute_result"
    }
   ],
   "source": [
    "# Error absoluto de la media\n",
    "MAE_Test_superficie = mean_absolute_error(Y_test_superficie, predictions_superficie)\n",
    "MAE_Test_superficie"
   ]
  },
  {
   "cell_type": "code",
   "execution_count": 42,
   "metadata": {},
   "outputs": [
    {
     "data": {
      "text/plain": [
       "616548.9623586925"
      ]
     },
     "execution_count": 42,
     "metadata": {},
     "output_type": "execute_result"
    }
   ],
   "source": [
    "# Raiz cuadrada de la media del error\n",
    "MSE_Test_superficie = mean_squared_error(Y_test_superficie, predictions_superficie)\n",
    "MSE_Test_superficie"
   ]
  },
  {
   "cell_type": "code",
   "execution_count": 43,
   "metadata": {},
   "outputs": [
    {
     "data": {
      "text/plain": [
       "785.2063183384942"
      ]
     },
     "execution_count": 43,
     "metadata": {},
     "output_type": "execute_result"
    }
   ],
   "source": [
    "RMSE_Test_superficie = np.sqrt(mean_squared_error(Y_test_superficie, predictions_superficie))\n",
    "RMSE_Test_superficie"
   ]
  },
  {
   "cell_type": "markdown",
   "metadata": {},
   "source": [
    "Se crea un diccionario con los datos que se recopilan de ahora en adelante, así se comparan al final de la notebook 3"
   ]
  },
  {
   "cell_type": "code",
   "execution_count": 44,
   "metadata": {},
   "outputs": [],
   "source": [
    "revision_datos = [ {'subconjunto': 'Superficie Cubierta',\n",
    "    'R2_train': R2_train_superficie.round(4),\n",
    "    'MAE': MAE_Test_superficie.round(4),\n",
    "    'MSE': MSE_Test_superficie.round(4),\n",
    "    'RMSE': RMSE_Test_superficie.round(4)}]"
   ]
  },
  {
   "cell_type": "markdown",
   "metadata": {},
   "source": [
    "# 5) Creación de modelo polinomial"
   ]
  },
  {
   "cell_type": "code",
   "execution_count": 45,
   "metadata": {},
   "outputs": [],
   "source": [
    "poly_train = PolynomialFeatures(2)\n",
    "poly_features_train = poly_train.fit_transform(X_train_todo_dataset)"
   ]
  },
  {
   "cell_type": "code",
   "execution_count": 46,
   "metadata": {},
   "outputs": [],
   "source": [
    "poly_test = PolynomialFeatures(2)\n",
    "poly_features_test = poly_test.fit_transform(X_test_todo_dataset)"
   ]
  },
  {
   "cell_type": "code",
   "execution_count": 47,
   "metadata": {},
   "outputs": [],
   "source": [
    "# X_train_todo_dataset, X_test_todo_dataset, Y_train_todo_dataset, Y_test_todo_dataset = train_test_split (poly_features, Y_train_todo_dataset, test_size = 0.3, random_state = 101)"
   ]
  },
  {
   "cell_type": "code",
   "execution_count": 48,
   "metadata": {},
   "outputs": [],
   "source": [
    "poly_model = linear_model.LinearRegression()"
   ]
  },
  {
   "cell_type": "code",
   "execution_count": 49,
   "metadata": {},
   "outputs": [],
   "source": [
    "poly_predictions = poly_model.fit(poly_features_train, Y_train_todo_dataset).predict(poly_features_test)"
   ]
  },
  {
   "cell_type": "code",
   "execution_count": 50,
   "metadata": {},
   "outputs": [
    {
     "name": "stdout",
     "output_type": "stream",
     "text": [
      "R2_train = 0.582936429616381\n"
     ]
    }
   ],
   "source": [
    "print ('R2_train =', poly_model.score(poly_features_train, Y_train_todo_dataset))"
   ]
  },
  {
   "cell_type": "code",
   "execution_count": 51,
   "metadata": {},
   "outputs": [
    {
     "data": {
      "text/plain": [
       "array([-4.38541011e+13, -1.05283682e+14, -6.02813017e+13, ...,\n",
       "       -3.33134090e+14,  0.00000000e+00, -1.98100843e+14])"
      ]
     },
     "execution_count": 51,
     "metadata": {},
     "output_type": "execute_result"
    }
   ],
   "source": [
    "poly_model.coef_"
   ]
  },
  {
   "cell_type": "code",
   "execution_count": 52,
   "metadata": {},
   "outputs": [
    {
     "data": {
      "text/plain": [
       "11195463428.070232"
      ]
     },
     "execution_count": 52,
     "metadata": {},
     "output_type": "execute_result"
    }
   ],
   "source": [
    "MAE = mean_absolute_error(Y_test_todo_dataset, poly_predictions)\n",
    "MAE"
   ]
  },
  {
   "cell_type": "code",
   "execution_count": 53,
   "metadata": {},
   "outputs": [
    {
     "data": {
      "text/plain": [
       "5.37912044885573e+23"
      ]
     },
     "execution_count": 53,
     "metadata": {},
     "output_type": "execute_result"
    }
   ],
   "source": [
    "MSE = mean_squared_error(Y_test_todo_dataset, poly_predictions)\n",
    "MSE"
   ]
  },
  {
   "cell_type": "code",
   "execution_count": 54,
   "metadata": {},
   "outputs": [
    {
     "data": {
      "text/plain": [
       "733424873375.2987"
      ]
     },
     "execution_count": 54,
     "metadata": {},
     "output_type": "execute_result"
    }
   ],
   "source": [
    "RMSE = np.sqrt(MSE)\n",
    "RMSE"
   ]
  },
  {
   "cell_type": "markdown",
   "metadata": {},
   "source": [
    "Exportamos el dataset para hacer gráficos y comparaciones"
   ]
  },
  {
   "cell_type": "code",
   "execution_count": 55,
   "metadata": {},
   "outputs": [],
   "source": [
    "data_con_dummies.to_csv('data_con_dummies.csv', index = False, sep=';')"
   ]
  }
 ],
 "metadata": {
  "kernelspec": {
   "display_name": "Python 3",
   "language": "python",
   "name": "python3"
  },
  "language_info": {
   "codemirror_mode": {
    "name": "ipython",
    "version": 3
   },
   "file_extension": ".py",
   "mimetype": "text/x-python",
   "name": "python",
   "nbconvert_exporter": "python",
   "pygments_lexer": "ipython3",
   "version": "3.7.9"
  }
 },
 "nbformat": 4,
 "nbformat_minor": 4
}
